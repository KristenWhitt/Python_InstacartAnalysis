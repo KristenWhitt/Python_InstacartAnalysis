{
 "cells": [
  {
   "cell_type": "markdown",
   "id": "5cedeb43",
   "metadata": {},
   "source": [
    "# Further Column Derivations, Analysis, and Visualizations"
   ]
  },
  {
   "cell_type": "markdown",
   "id": "7acd0c49",
   "metadata": {},
   "source": [
    "## 1. Customer spending by region\n",
    "## 2. Exclusion flag for low activity customers\n",
    "## 3. Create customer profiles based on:\n",
    "###       a. age\n",
    "###       b. income\n",
    "###       c. products purchased\n",
    "###       d. number of dependants\n",
    "## 4. Visualization for distribution of profile variables in 3\n",
    "## 5. Compare profiles by region and department\n",
    "## 6. Visualizations & crosstabs"
   ]
  },
  {
   "cell_type": "code",
   "execution_count": 2,
   "id": "d5a0e0e6",
   "metadata": {},
   "outputs": [],
   "source": [
    "#import libraries\n",
    "import pandas as pd\n",
    "import numpy as np\n",
    "import os"
   ]
  },
  {
   "cell_type": "code",
   "execution_count": 3,
   "id": "57d0a01e",
   "metadata": {},
   "outputs": [],
   "source": [
    "#create file path string\n",
    "path = r'C:\\Users\\krist\\08.2023_InstacartBasketAnalysis'"
   ]
  },
  {
   "cell_type": "code",
   "execution_count": 4,
   "id": "87d85760",
   "metadata": {},
   "outputs": [
    {
     "data": {
      "text/html": [
       "<div>\n",
       "<style scoped>\n",
       "    .dataframe tbody tr th:only-of-type {\n",
       "        vertical-align: middle;\n",
       "    }\n",
       "\n",
       "    .dataframe tbody tr th {\n",
       "        vertical-align: top;\n",
       "    }\n",
       "\n",
       "    .dataframe thead th {\n",
       "        text-align: right;\n",
       "    }\n",
       "</style>\n",
       "<table border=\"1\" class=\"dataframe\">\n",
       "  <thead>\n",
       "    <tr style=\"text-align: right;\">\n",
       "      <th></th>\n",
       "      <th>order_id</th>\n",
       "      <th>user_id</th>\n",
       "      <th>order_number</th>\n",
       "      <th>order_day_of_week</th>\n",
       "      <th>order_hour_of_day</th>\n",
       "      <th>days_since_last_order</th>\n",
       "      <th>product_id</th>\n",
       "      <th>add_to_cart_order</th>\n",
       "      <th>reordered</th>\n",
       "      <th>product_name</th>\n",
       "      <th>...</th>\n",
       "      <th>Spending_flag</th>\n",
       "      <th>median_days_since_last_order</th>\n",
       "      <th>frequency_flag</th>\n",
       "      <th>Gender</th>\n",
       "      <th>State</th>\n",
       "      <th>Age</th>\n",
       "      <th>date_joined</th>\n",
       "      <th>num_dependants</th>\n",
       "      <th>fam_status</th>\n",
       "      <th>income</th>\n",
       "    </tr>\n",
       "  </thead>\n",
       "  <tbody>\n",
       "    <tr>\n",
       "      <th>0</th>\n",
       "      <td>2539329</td>\n",
       "      <td>1</td>\n",
       "      <td>1</td>\n",
       "      <td>2</td>\n",
       "      <td>8</td>\n",
       "      <td>11.0</td>\n",
       "      <td>196</td>\n",
       "      <td>1</td>\n",
       "      <td>0</td>\n",
       "      <td>Soda</td>\n",
       "      <td>...</td>\n",
       "      <td>Low spender</td>\n",
       "      <td>20.0</td>\n",
       "      <td>Regular customer</td>\n",
       "      <td>Female</td>\n",
       "      <td>Alabama</td>\n",
       "      <td>31</td>\n",
       "      <td>2/17/2019</td>\n",
       "      <td>3</td>\n",
       "      <td>married</td>\n",
       "      <td>40423</td>\n",
       "    </tr>\n",
       "    <tr>\n",
       "      <th>1</th>\n",
       "      <td>2398795</td>\n",
       "      <td>1</td>\n",
       "      <td>2</td>\n",
       "      <td>3</td>\n",
       "      <td>7</td>\n",
       "      <td>15.0</td>\n",
       "      <td>196</td>\n",
       "      <td>1</td>\n",
       "      <td>1</td>\n",
       "      <td>Soda</td>\n",
       "      <td>...</td>\n",
       "      <td>Low spender</td>\n",
       "      <td>20.0</td>\n",
       "      <td>Regular customer</td>\n",
       "      <td>Female</td>\n",
       "      <td>Alabama</td>\n",
       "      <td>31</td>\n",
       "      <td>2/17/2019</td>\n",
       "      <td>3</td>\n",
       "      <td>married</td>\n",
       "      <td>40423</td>\n",
       "    </tr>\n",
       "    <tr>\n",
       "      <th>2</th>\n",
       "      <td>473747</td>\n",
       "      <td>1</td>\n",
       "      <td>3</td>\n",
       "      <td>3</td>\n",
       "      <td>12</td>\n",
       "      <td>21.0</td>\n",
       "      <td>196</td>\n",
       "      <td>1</td>\n",
       "      <td>1</td>\n",
       "      <td>Soda</td>\n",
       "      <td>...</td>\n",
       "      <td>Low spender</td>\n",
       "      <td>20.0</td>\n",
       "      <td>Regular customer</td>\n",
       "      <td>Female</td>\n",
       "      <td>Alabama</td>\n",
       "      <td>31</td>\n",
       "      <td>2/17/2019</td>\n",
       "      <td>3</td>\n",
       "      <td>married</td>\n",
       "      <td>40423</td>\n",
       "    </tr>\n",
       "    <tr>\n",
       "      <th>3</th>\n",
       "      <td>2254736</td>\n",
       "      <td>1</td>\n",
       "      <td>4</td>\n",
       "      <td>4</td>\n",
       "      <td>7</td>\n",
       "      <td>29.0</td>\n",
       "      <td>196</td>\n",
       "      <td>1</td>\n",
       "      <td>1</td>\n",
       "      <td>Soda</td>\n",
       "      <td>...</td>\n",
       "      <td>Low spender</td>\n",
       "      <td>20.0</td>\n",
       "      <td>Regular customer</td>\n",
       "      <td>Female</td>\n",
       "      <td>Alabama</td>\n",
       "      <td>31</td>\n",
       "      <td>2/17/2019</td>\n",
       "      <td>3</td>\n",
       "      <td>married</td>\n",
       "      <td>40423</td>\n",
       "    </tr>\n",
       "    <tr>\n",
       "      <th>4</th>\n",
       "      <td>431534</td>\n",
       "      <td>1</td>\n",
       "      <td>5</td>\n",
       "      <td>4</td>\n",
       "      <td>15</td>\n",
       "      <td>28.0</td>\n",
       "      <td>196</td>\n",
       "      <td>1</td>\n",
       "      <td>1</td>\n",
       "      <td>Soda</td>\n",
       "      <td>...</td>\n",
       "      <td>Low spender</td>\n",
       "      <td>20.0</td>\n",
       "      <td>Regular customer</td>\n",
       "      <td>Female</td>\n",
       "      <td>Alabama</td>\n",
       "      <td>31</td>\n",
       "      <td>2/17/2019</td>\n",
       "      <td>3</td>\n",
       "      <td>married</td>\n",
       "      <td>40423</td>\n",
       "    </tr>\n",
       "  </tbody>\n",
       "</table>\n",
       "<p>5 rows × 30 columns</p>\n",
       "</div>"
      ],
      "text/plain": [
       "   order_id  user_id  order_number  order_day_of_week  order_hour_of_day  \\\n",
       "0   2539329        1             1                  2                  8   \n",
       "1   2398795        1             2                  3                  7   \n",
       "2    473747        1             3                  3                 12   \n",
       "3   2254736        1             4                  4                  7   \n",
       "4    431534        1             5                  4                 15   \n",
       "\n",
       "   days_since_last_order  product_id  add_to_cart_order  reordered  \\\n",
       "0                   11.0         196                  1          0   \n",
       "1                   15.0         196                  1          1   \n",
       "2                   21.0         196                  1          1   \n",
       "3                   29.0         196                  1          1   \n",
       "4                   28.0         196                  1          1   \n",
       "\n",
       "  product_name  ...  Spending_flag  median_days_since_last_order  \\\n",
       "0         Soda  ...    Low spender                          20.0   \n",
       "1         Soda  ...    Low spender                          20.0   \n",
       "2         Soda  ...    Low spender                          20.0   \n",
       "3         Soda  ...    Low spender                          20.0   \n",
       "4         Soda  ...    Low spender                          20.0   \n",
       "\n",
       "     frequency_flag  Gender    State Age date_joined  num_dependants  \\\n",
       "0  Regular customer  Female  Alabama  31   2/17/2019               3   \n",
       "1  Regular customer  Female  Alabama  31   2/17/2019               3   \n",
       "2  Regular customer  Female  Alabama  31   2/17/2019               3   \n",
       "3  Regular customer  Female  Alabama  31   2/17/2019               3   \n",
       "4  Regular customer  Female  Alabama  31   2/17/2019               3   \n",
       "\n",
       "  fam_status  income  \n",
       "0    married   40423  \n",
       "1    married   40423  \n",
       "2    married   40423  \n",
       "3    married   40423  \n",
       "4    married   40423  \n",
       "\n",
       "[5 rows x 30 columns]"
      ]
     },
     "execution_count": 4,
     "metadata": {},
     "output_type": "execute_result"
    }
   ],
   "source": [
    "#import latest fully combined dataset with customer information and check import\n",
    "df_ords_prods_all = pd.read_pickle(os.path.join(path, '02.Data', 'Prepared_Data', 'orders_products_all.pkl'))\n",
    "df_ords_prods_all.head()"
   ]
  },
  {
   "cell_type": "code",
   "execution_count": 4,
   "id": "5a3a0287",
   "metadata": {},
   "outputs": [
    {
     "data": {
      "text/plain": [
       "(32404859, 30)"
      ]
     },
     "execution_count": 4,
     "metadata": {},
     "output_type": "execute_result"
    }
   ],
   "source": [
    "#check shape \n",
    "df_ords_prods_all.shape"
   ]
  },
  {
   "cell_type": "markdown",
   "id": "45040846",
   "metadata": {},
   "source": [
    "### shape is same as exported file. import successful"
   ]
  },
  {
   "cell_type": "markdown",
   "id": "423c03ee",
   "metadata": {},
   "source": [
    "## 1. Create new column for region"
   ]
  },
  {
   "cell_type": "code",
   "execution_count": 5,
   "id": "6cc8f36a",
   "metadata": {},
   "outputs": [],
   "source": [
    "#create new column for region using state. Regions are Northeast, Midwest, South, West\n",
    "#create region lists\n",
    "Northeast = ['Maine','New Hampshire','Vermont','Massachusetts','Rhode Island',\n",
    "             'Connecticut','New York','Pennsylvania','New Jersey']\n",
    "Midwest = ['Wisconsin','Michigan','Illinois','Indiana','Ohio','North Dakota',\n",
    "           'South Dakota','Nebraska','Kansas','Minnesota','Iowa','Missouri']\n",
    "South = ['Delaware','Maryland','District of Columbia','Virginia','West Virginia',\n",
    "         'North Carolina','South Carolina','Georgia','Florida','Kentucky',\n",
    "         'Tennessee','Mississippi','Alabama','Oklahoma','Texas','Arkansas','Louisiana']\n",
    "West = ['Idaho','Montana','Wyoming','Nevada','Utah','Colorado','Arizona','New Mexico',\n",
    "        'Alaska','Washington','Oregon','California','Hawaii']"
   ]
  },
  {
   "cell_type": "code",
   "execution_count": 6,
   "id": "38b86bce",
   "metadata": {},
   "outputs": [],
   "source": [
    "# use lamba function to create new regions column \n",
    "df_ords_prods_all['Region'] = df_ords_prods_all['State'].apply(lambda x: 'Northeast' if x in Northeast else\n",
    "                                                              'Midwest' if x in Midwest else\n",
    "                                                              'South' if x in South else\n",
    "                                                              'West' if x in West else np.nan)"
   ]
  },
  {
   "cell_type": "code",
   "execution_count": 7,
   "id": "ce6fdbb7",
   "metadata": {},
   "outputs": [
    {
     "data": {
      "text/plain": [
       "South        10791885\n",
       "West          8292913\n",
       "Midwest       7597325\n",
       "Northeast     5722736\n",
       "Name: Region, dtype: int64"
      ]
     },
     "execution_count": 7,
     "metadata": {},
     "output_type": "execute_result"
    }
   ],
   "source": [
    "#check region column\n",
    "df_ords_prods_all['Region'].value_counts()"
   ]
  },
  {
   "cell_type": "code",
   "execution_count": 8,
   "id": "8a983b6b",
   "metadata": {},
   "outputs": [
    {
     "data": {
      "text/plain": [
       "0     South\n",
       "1     South\n",
       "2     South\n",
       "3     South\n",
       "4     South\n",
       "5     South\n",
       "6     South\n",
       "7     South\n",
       "8     South\n",
       "9     South\n",
       "10    South\n",
       "11    South\n",
       "12    South\n",
       "13    South\n",
       "14    South\n",
       "15    South\n",
       "16    South\n",
       "17    South\n",
       "18    South\n",
       "19    South\n",
       "Name: Region, dtype: object"
      ]
     },
     "execution_count": 8,
     "metadata": {},
     "output_type": "execute_result"
    }
   ],
   "source": [
    "#check region column\n",
    "df_ords_prods_all['Region'].head(20)"
   ]
  },
  {
   "cell_type": "code",
   "execution_count": 9,
   "id": "1c8691be",
   "metadata": {},
   "outputs": [
    {
     "data": {
      "text/html": [
       "<div>\n",
       "<style scoped>\n",
       "    .dataframe tbody tr th:only-of-type {\n",
       "        vertical-align: middle;\n",
       "    }\n",
       "\n",
       "    .dataframe tbody tr th {\n",
       "        vertical-align: top;\n",
       "    }\n",
       "\n",
       "    .dataframe thead th {\n",
       "        text-align: right;\n",
       "    }\n",
       "</style>\n",
       "<table border=\"1\" class=\"dataframe\">\n",
       "  <thead>\n",
       "    <tr style=\"text-align: right;\">\n",
       "      <th>Spending_flag</th>\n",
       "      <th>High spender</th>\n",
       "      <th>Low spender</th>\n",
       "    </tr>\n",
       "    <tr>\n",
       "      <th>Region</th>\n",
       "      <th></th>\n",
       "      <th></th>\n",
       "    </tr>\n",
       "  </thead>\n",
       "  <tbody>\n",
       "    <tr>\n",
       "      <th>Midwest</th>\n",
       "      <td>155975</td>\n",
       "      <td>7441350</td>\n",
       "    </tr>\n",
       "    <tr>\n",
       "      <th>Northeast</th>\n",
       "      <td>108225</td>\n",
       "      <td>5614511</td>\n",
       "    </tr>\n",
       "    <tr>\n",
       "      <th>South</th>\n",
       "      <td>209691</td>\n",
       "      <td>10582194</td>\n",
       "    </tr>\n",
       "    <tr>\n",
       "      <th>West</th>\n",
       "      <td>160354</td>\n",
       "      <td>8132559</td>\n",
       "    </tr>\n",
       "  </tbody>\n",
       "</table>\n",
       "</div>"
      ],
      "text/plain": [
       "Spending_flag  High spender  Low spender\n",
       "Region                                  \n",
       "Midwest              155975      7441350\n",
       "Northeast            108225      5614511\n",
       "South                209691     10582194\n",
       "West                 160354      8132559"
      ]
     },
     "execution_count": 9,
     "metadata": {},
     "output_type": "execute_result"
    }
   ],
   "source": [
    "#explore spending habits by region\n",
    "reg_spend_xtab = pd.crosstab(df_ords_prods_all['Region'], df_ords_prods_all['Spending_flag'], dropna = False)\n",
    "reg_spend_xtab"
   ]
  },
  {
   "cell_type": "markdown",
   "id": "f964f9f3",
   "metadata": {},
   "source": [
    "### South appears to have greatest number of high spenders (209,691) but it also has the greatest number of states. Need to create % of total columns "
   ]
  },
  {
   "cell_type": "code",
   "execution_count": 10,
   "id": "1ac76be9",
   "metadata": {},
   "outputs": [
    {
     "data": {
      "text/html": [
       "<div>\n",
       "<style scoped>\n",
       "    .dataframe tbody tr th:only-of-type {\n",
       "        vertical-align: middle;\n",
       "    }\n",
       "\n",
       "    .dataframe tbody tr th {\n",
       "        vertical-align: top;\n",
       "    }\n",
       "\n",
       "    .dataframe thead th {\n",
       "        text-align: right;\n",
       "    }\n",
       "</style>\n",
       "<table border=\"1\" class=\"dataframe\">\n",
       "  <thead>\n",
       "    <tr style=\"text-align: right;\">\n",
       "      <th>Spending_flag</th>\n",
       "      <th>High spender</th>\n",
       "      <th>Low spender</th>\n",
       "      <th>Percent_high</th>\n",
       "    </tr>\n",
       "    <tr>\n",
       "      <th>Region</th>\n",
       "      <th></th>\n",
       "      <th></th>\n",
       "      <th></th>\n",
       "    </tr>\n",
       "  </thead>\n",
       "  <tbody>\n",
       "    <tr>\n",
       "      <th>Midwest</th>\n",
       "      <td>155975</td>\n",
       "      <td>7441350</td>\n",
       "      <td>2.053025</td>\n",
       "    </tr>\n",
       "    <tr>\n",
       "      <th>Northeast</th>\n",
       "      <td>108225</td>\n",
       "      <td>5614511</td>\n",
       "      <td>1.891141</td>\n",
       "    </tr>\n",
       "    <tr>\n",
       "      <th>South</th>\n",
       "      <td>209691</td>\n",
       "      <td>10582194</td>\n",
       "      <td>1.943043</td>\n",
       "    </tr>\n",
       "    <tr>\n",
       "      <th>West</th>\n",
       "      <td>160354</td>\n",
       "      <td>8132559</td>\n",
       "      <td>1.933627</td>\n",
       "    </tr>\n",
       "  </tbody>\n",
       "</table>\n",
       "</div>"
      ],
      "text/plain": [
       "Spending_flag  High spender  Low spender  Percent_high\n",
       "Region                                                \n",
       "Midwest              155975      7441350      2.053025\n",
       "Northeast            108225      5614511      1.891141\n",
       "South                209691     10582194      1.943043\n",
       "West                 160354      8132559      1.933627"
      ]
     },
     "execution_count": 10,
     "metadata": {},
     "output_type": "execute_result"
    }
   ],
   "source": [
    "#create percent high column for spending by region crosstab\n",
    "reg_spend_xtab['Percent_high'] = (reg_spend_xtab['High spender'] / (reg_spend_xtab['High spender']+reg_spend_xtab['Low spender']))*100\n",
    "reg_spend_xtab"
   ]
  },
  {
   "cell_type": "code",
   "execution_count": 11,
   "id": "64a40ea8",
   "metadata": {},
   "outputs": [
    {
     "data": {
      "text/html": [
       "<div>\n",
       "<style scoped>\n",
       "    .dataframe tbody tr th:only-of-type {\n",
       "        vertical-align: middle;\n",
       "    }\n",
       "\n",
       "    .dataframe tbody tr th {\n",
       "        vertical-align: top;\n",
       "    }\n",
       "\n",
       "    .dataframe thead th {\n",
       "        text-align: right;\n",
       "    }\n",
       "</style>\n",
       "<table border=\"1\" class=\"dataframe\">\n",
       "  <thead>\n",
       "    <tr style=\"text-align: right;\">\n",
       "      <th>Spending_flag</th>\n",
       "      <th>High spender</th>\n",
       "      <th>Low spender</th>\n",
       "      <th>Percent_high</th>\n",
       "      <th>Percent_low</th>\n",
       "    </tr>\n",
       "    <tr>\n",
       "      <th>Region</th>\n",
       "      <th></th>\n",
       "      <th></th>\n",
       "      <th></th>\n",
       "      <th></th>\n",
       "    </tr>\n",
       "  </thead>\n",
       "  <tbody>\n",
       "    <tr>\n",
       "      <th>Midwest</th>\n",
       "      <td>155975</td>\n",
       "      <td>7441350</td>\n",
       "      <td>2.053025</td>\n",
       "      <td>97.946975</td>\n",
       "    </tr>\n",
       "    <tr>\n",
       "      <th>Northeast</th>\n",
       "      <td>108225</td>\n",
       "      <td>5614511</td>\n",
       "      <td>1.891141</td>\n",
       "      <td>98.108859</td>\n",
       "    </tr>\n",
       "    <tr>\n",
       "      <th>South</th>\n",
       "      <td>209691</td>\n",
       "      <td>10582194</td>\n",
       "      <td>1.943043</td>\n",
       "      <td>98.056957</td>\n",
       "    </tr>\n",
       "    <tr>\n",
       "      <th>West</th>\n",
       "      <td>160354</td>\n",
       "      <td>8132559</td>\n",
       "      <td>1.933627</td>\n",
       "      <td>98.066373</td>\n",
       "    </tr>\n",
       "  </tbody>\n",
       "</table>\n",
       "</div>"
      ],
      "text/plain": [
       "Spending_flag  High spender  Low spender  Percent_high  Percent_low\n",
       "Region                                                             \n",
       "Midwest              155975      7441350      2.053025    97.946975\n",
       "Northeast            108225      5614511      1.891141    98.108859\n",
       "South                209691     10582194      1.943043    98.056957\n",
       "West                 160354      8132559      1.933627    98.066373"
      ]
     },
     "execution_count": 11,
     "metadata": {},
     "output_type": "execute_result"
    }
   ],
   "source": [
    "#create percent low column for spending by region crosstab\n",
    "reg_spend_xtab['Percent_low'] = (reg_spend_xtab['Low spender'] / (reg_spend_xtab['High spender']+reg_spend_xtab['Low spender']))*100\n",
    "reg_spend_xtab"
   ]
  },
  {
   "cell_type": "code",
   "execution_count": 12,
   "id": "22cd9e91",
   "metadata": {},
   "outputs": [],
   "source": [
    "reg_spend_xtab.to_clipboard()"
   ]
  },
  {
   "cell_type": "markdown",
   "id": "07189791",
   "metadata": {},
   "source": [
    "### Midwest has the highest percentage of high spenders followed by South, West, then Northeast is last"
   ]
  },
  {
   "cell_type": "markdown",
   "id": "0fdeb00d",
   "metadata": {},
   "source": [
    "## 2. Create a low activity exclusion flag"
   ]
  },
  {
   "cell_type": "markdown",
   "id": "44e96f72",
   "metadata": {},
   "source": [
    "### low acvitity defined as less than 5 orders"
   ]
  },
  {
   "cell_type": "code",
   "execution_count": 13,
   "id": "3d2dbe0f",
   "metadata": {},
   "outputs": [
    {
     "data": {
      "text/plain": [
       "count    3.240486e+07\n",
       "mean     1.714230e+01\n",
       "std      1.753532e+01\n",
       "min      1.000000e+00\n",
       "25%      5.000000e+00\n",
       "50%      1.100000e+01\n",
       "75%      2.400000e+01\n",
       "max      9.900000e+01\n",
       "Name: order_number, dtype: float64"
      ]
     },
     "execution_count": 13,
     "metadata": {},
     "output_type": "execute_result"
    }
   ],
   "source": [
    "#explore max, min, mean for order_number to determine remaining activity labels\n",
    "df_ords_prods_all['order_number'].describe()"
   ]
  },
  {
   "cell_type": "markdown",
   "id": "eed3f500",
   "metadata": {},
   "source": [
    "### low activity less than 5 orders\n",
    "### regular activity 5 to 7 orders\n",
    "### high activity more than 7 orders"
   ]
  },
  {
   "cell_type": "code",
   "execution_count": 14,
   "id": "658fcc4e",
   "metadata": {},
   "outputs": [],
   "source": [
    "#use max_order column to create activity flag\n",
    "df_ords_prods_all.loc[df_ords_prods_all['max_order'] <5,\n",
    "                      'activity_flag'] = 'low_activity'"
   ]
  },
  {
   "cell_type": "code",
   "execution_count": 15,
   "id": "a78f2217",
   "metadata": {},
   "outputs": [],
   "source": [
    "df_ords_prods_all.loc[(df_ords_prods_all['max_order'] <=7) & \n",
    "                      (df_ords_prods_all['max_order'] >=5),\n",
    "                      ['activity_flag']] = 'regular_activity'"
   ]
  },
  {
   "cell_type": "code",
   "execution_count": 16,
   "id": "a98022ec",
   "metadata": {},
   "outputs": [],
   "source": [
    "df_ords_prods_all.loc[df_ords_prods_all['max_order'] >7,\n",
    "                      ['activity_flag']] = 'high_activity'"
   ]
  },
  {
   "cell_type": "code",
   "execution_count": 17,
   "id": "25ce67b2",
   "metadata": {},
   "outputs": [
    {
     "data": {
      "text/plain": [
       "Index(['order_id', 'user_id', 'order_number', 'order_day_of_week',\n",
       "       'order_hour_of_day', 'days_since_last_order', 'product_id',\n",
       "       'add_to_cart_order', 'reordered', 'product_name', 'aisle_id',\n",
       "       'department_id', 'prices', 'price_range_loc', 'busiest_day',\n",
       "       'busiest_days', 'busiest_period_of_day', 'max_order', 'loyalty_flag',\n",
       "       'users_avg_product_price', 'Spending_flag',\n",
       "       'median_days_since_last_order', 'frequency_flag', 'Gender', 'State',\n",
       "       'Age', 'date_joined', 'num_dependants', 'fam_status', 'income',\n",
       "       'Region', 'activity_flag'],\n",
       "      dtype='object')"
      ]
     },
     "execution_count": 17,
     "metadata": {},
     "output_type": "execute_result"
    }
   ],
   "source": [
    "#check for new column\n",
    "df_ords_prods_all.columns"
   ]
  },
  {
   "cell_type": "code",
   "execution_count": 18,
   "id": "c23c9293",
   "metadata": {},
   "outputs": [
    {
     "data": {
      "text/plain": [
       "high_activity       28556049\n",
       "regular_activity     2408515\n",
       "low_activity         1440295\n",
       "Name: activity_flag, dtype: int64"
      ]
     },
     "execution_count": 18,
     "metadata": {},
     "output_type": "execute_result"
    }
   ],
   "source": [
    "#check new column frequency\n",
    "df_ords_prods_all['activity_flag'].value_counts()"
   ]
  },
  {
   "cell_type": "markdown",
   "id": "0e24c3cc",
   "metadata": {},
   "source": [
    "### high_activity     28,556,049\n",
    "### regular_activity    2,408,515\n",
    "### low_activity    1,440,295"
   ]
  },
  {
   "cell_type": "code",
   "execution_count": 19,
   "id": "5cb26cfb",
   "metadata": {},
   "outputs": [],
   "source": [
    "#create subset with only low activity users\n",
    "low_activity_users = df_ords_prods_all[df_ords_prods_all['activity_flag'] == 'low_activity']"
   ]
  },
  {
   "cell_type": "code",
   "execution_count": 20,
   "id": "26680367",
   "metadata": {},
   "outputs": [
    {
     "data": {
      "text/plain": [
       "(1440295, 32)"
      ]
     },
     "execution_count": 20,
     "metadata": {},
     "output_type": "execute_result"
    }
   ],
   "source": [
    "#check subset shape\n",
    "low_activity_users.shape"
   ]
  },
  {
   "cell_type": "markdown",
   "id": "3c6832bd",
   "metadata": {},
   "source": [
    "### rows of subset match count from activity_flag column 1,440,295"
   ]
  },
  {
   "cell_type": "code",
   "execution_count": 21,
   "id": "7b8f90f4",
   "metadata": {},
   "outputs": [],
   "source": [
    "#export low activity subset\n",
    "low_activity_users.to_pickle(os.path.join(path, \n",
    "                                          '02.Data', \n",
    "                                          'Prepared_Data', \n",
    "                                          'ords_prods_low_activity_subset.pkl'))"
   ]
  },
  {
   "cell_type": "code",
   "execution_count": 22,
   "id": "02bb0fc6",
   "metadata": {},
   "outputs": [],
   "source": [
    "#create new dataframe with low_activity users excluded\n",
    "df_ords_prods_no_low = df_ords_prods_all.loc[df_ords_prods_all['activity_flag'].isin(['regular_activity',\n",
    "                                                                                      'high_activity'])]"
   ]
  },
  {
   "cell_type": "code",
   "execution_count": 23,
   "id": "f4f1a271",
   "metadata": {},
   "outputs": [
    {
     "data": {
      "text/plain": [
       "(30964564, 32)"
      ]
     },
     "execution_count": 23,
     "metadata": {},
     "output_type": "execute_result"
    }
   ],
   "source": [
    "#check shape should have 30,964,564 rows\n",
    "df_ords_prods_no_low.shape"
   ]
  },
  {
   "cell_type": "code",
   "execution_count": 24,
   "id": "1e783e09",
   "metadata": {},
   "outputs": [
    {
     "data": {
      "text/plain": [
       "high_activity       28556049\n",
       "regular_activity     2408515\n",
       "Name: activity_flag, dtype: int64"
      ]
     },
     "execution_count": 24,
     "metadata": {},
     "output_type": "execute_result"
    }
   ],
   "source": [
    "#check counts for activity flag, shouldn't have any low activity\n",
    "df_ords_prods_no_low['activity_flag'].value_counts()"
   ]
  },
  {
   "cell_type": "markdown",
   "id": "aa912f57",
   "metadata": {},
   "source": [
    "### excluded low activity users. new row count with low activity users excluded is 30,964,564"
   ]
  },
  {
   "cell_type": "markdown",
   "id": "f107a6ae",
   "metadata": {},
   "source": [
    "## 3. Create customer profiles"
   ]
  },
  {
   "cell_type": "code",
   "execution_count": 25,
   "id": "04e40969",
   "metadata": {},
   "outputs": [
    {
     "name": "stderr",
     "output_type": "stream",
     "text": [
      "C:\\Users\\krist\\AppData\\Local\\Temp\\ipykernel_20840\\1108761001.py:2: SettingWithCopyWarning: \n",
      "A value is trying to be set on a copy of a slice from a DataFrame.\n",
      "Try using .loc[row_indexer,col_indexer] = value instead\n",
      "\n",
      "See the caveats in the documentation: https://pandas.pydata.org/pandas-docs/stable/user_guide/indexing.html#returning-a-view-versus-a-copy\n",
      "  df_ords_prods_no_low.loc[(df_ords_prods_no_low['num_dependants'] == 0) &\n"
     ]
    }
   ],
   "source": [
    "#older adults num_dependants = 0, age >=65, departments 1, 3, 13, 15\n",
    "df_ords_prods_no_low.loc[(df_ords_prods_no_low['num_dependants'] == 0) & \n",
    "                         (df_ords_prods_no_low['Age'] >= 65) &\n",
    "                         (df_ords_prods_no_low['department_id'].isin([1, 3, 13, 15])),\n",
    "                         'Demographic_profile'] = 'Adults 65+'"
   ]
  },
  {
   "cell_type": "code",
   "execution_count": 26,
   "id": "b7276b12",
   "metadata": {},
   "outputs": [
    {
     "data": {
      "text/plain": [
       "Adults 65+    394000\n",
       "Name: Demographic_profile, dtype: int64"
      ]
     },
     "execution_count": 26,
     "metadata": {},
     "output_type": "execute_result"
    }
   ],
   "source": [
    "#check for labesl in new column\n",
    "df_ords_prods_no_low['Demographic_profile'].value_counts()"
   ]
  },
  {
   "cell_type": "code",
   "execution_count": 27,
   "id": "eec2ed56",
   "metadata": {},
   "outputs": [],
   "source": [
    "#create a label for dual income high earners: \n",
    "#num_dependants = 0, income = >125,000, fam_status = married, departments 4,5,7,10,19\n",
    "df_ords_prods_no_low.loc[(df_ords_prods_no_low['num_dependants'] == 0) &\n",
    "                        (df_ords_prods_no_low['fam_status'] == 'married') &\n",
    "                         (df_ords_prods_no_low['income'] >= 150000) &\n",
    "                         (df_ords_prods_no_low['department_id'].isin([4,5,7,10,19])),\n",
    "                         'Demographic_profile'] = 'Dual inc high earners'"
   ]
  },
  {
   "cell_type": "code",
   "execution_count": 28,
   "id": "af05b19c",
   "metadata": {},
   "outputs": [
    {
     "data": {
      "text/plain": [
       "Adults 65+    394000\n",
       "Name: Demographic_profile, dtype: int64"
      ]
     },
     "execution_count": 28,
     "metadata": {},
     "output_type": "execute_result"
    }
   ],
   "source": [
    "#check for labesl in new column\n",
    "df_ords_prods_no_low['Demographic_profile'].value_counts()"
   ]
  },
  {
   "cell_type": "markdown",
   "id": "9c2e5e5b",
   "metadata": {},
   "source": [
    "### there appear to be no customers who are married without children"
   ]
  },
  {
   "cell_type": "code",
   "execution_count": 29,
   "id": "fb6cf8a0",
   "metadata": {},
   "outputs": [
    {
     "data": {
      "text/html": [
       "<div>\n",
       "<style scoped>\n",
       "    .dataframe tbody tr th:only-of-type {\n",
       "        vertical-align: middle;\n",
       "    }\n",
       "\n",
       "    .dataframe tbody tr th {\n",
       "        vertical-align: top;\n",
       "    }\n",
       "\n",
       "    .dataframe thead th {\n",
       "        text-align: right;\n",
       "    }\n",
       "</style>\n",
       "<table border=\"1\" class=\"dataframe\">\n",
       "  <thead>\n",
       "    <tr style=\"text-align: right;\">\n",
       "      <th>num_dependants</th>\n",
       "      <th>0</th>\n",
       "      <th>1</th>\n",
       "      <th>2</th>\n",
       "      <th>3</th>\n",
       "    </tr>\n",
       "    <tr>\n",
       "      <th>fam_status</th>\n",
       "      <th></th>\n",
       "      <th></th>\n",
       "      <th></th>\n",
       "      <th></th>\n",
       "    </tr>\n",
       "  </thead>\n",
       "  <tbody>\n",
       "    <tr>\n",
       "      <th>divorced/widowed</th>\n",
       "      <td>2645271</td>\n",
       "      <td>0</td>\n",
       "      <td>0</td>\n",
       "      <td>0</td>\n",
       "    </tr>\n",
       "    <tr>\n",
       "      <th>living with parents and siblings</th>\n",
       "      <td>0</td>\n",
       "      <td>508045</td>\n",
       "      <td>484658</td>\n",
       "      <td>488469</td>\n",
       "    </tr>\n",
       "    <tr>\n",
       "      <th>married</th>\n",
       "      <td>0</td>\n",
       "      <td>7211061</td>\n",
       "      <td>7248603</td>\n",
       "      <td>7284047</td>\n",
       "    </tr>\n",
       "    <tr>\n",
       "      <th>single</th>\n",
       "      <td>5094410</td>\n",
       "      <td>0</td>\n",
       "      <td>0</td>\n",
       "      <td>0</td>\n",
       "    </tr>\n",
       "  </tbody>\n",
       "</table>\n",
       "</div>"
      ],
      "text/plain": [
       "num_dependants                          0        1        2        3\n",
       "fam_status                                                          \n",
       "divorced/widowed                  2645271        0        0        0\n",
       "living with parents and siblings        0   508045   484658   488469\n",
       "married                                 0  7211061  7248603  7284047\n",
       "single                            5094410        0        0        0"
      ]
     },
     "execution_count": 29,
     "metadata": {},
     "output_type": "execute_result"
    }
   ],
   "source": [
    "#check that there aren't any married customers without children\n",
    "demo_xtab = pd.crosstab(df_ords_prods_no_low['fam_status'], \n",
    "                        df_ords_prods_no_low['num_dependants'], \n",
    "                        dropna = False)\n",
    "demo_xtab"
   ]
  },
  {
   "cell_type": "code",
   "execution_count": 30,
   "id": "d43892e8",
   "metadata": {},
   "outputs": [],
   "source": [
    "#create a label for young singles (avg starting salary assumed 55k): \n",
    "#num_dependants = 0, income = <60,000, fam_status = single, age <=30\n",
    "df_ords_prods_no_low.loc[(df_ords_prods_no_low['num_dependants'] == 0) &\n",
    "                         (df_ords_prods_no_low['income'] <60000) &\n",
    "                        (df_ords_prods_no_low['fam_status'] == 'single') &\n",
    "                         (df_ords_prods_no_low['department_id'].isin([1,4,5,7,14,19])) &\n",
    "                         (df_ords_prods_no_low['Age'].isin([22,23,24,25,26,27,28,29,30,31,32,33,34,35])),\n",
    "                         'Demographic_profile'] = 'Young single professionals'"
   ]
  },
  {
   "cell_type": "code",
   "execution_count": 31,
   "id": "2d31e92d",
   "metadata": {},
   "outputs": [
    {
     "data": {
      "text/plain": [
       "Adults 65+                    394000\n",
       "Young single professionals    318536\n",
       "Name: Demographic_profile, dtype: int64"
      ]
     },
     "execution_count": 31,
     "metadata": {},
     "output_type": "execute_result"
    }
   ],
   "source": [
    "#check for labesl in new column\n",
    "df_ords_prods_no_low['Demographic_profile'].value_counts()"
   ]
  },
  {
   "cell_type": "code",
   "execution_count": 32,
   "id": "96bf98cc",
   "metadata": {},
   "outputs": [],
   "source": [
    "#create a label for young adult at home \n",
    "#fam_status = living with parents and siblings, age <=25\n",
    "df_ords_prods_no_low.loc[(df_ords_prods_no_low['fam_status'] == 'living with parents and siblings') &\n",
    "                         (df_ords_prods_no_low['department_id'].isin([9,13,19])) &\n",
    "                         (df_ords_prods_no_low['Age'] <= 25),\n",
    "                         'Demographic_profile'] = 'Young adult at home'"
   ]
  },
  {
   "cell_type": "code",
   "execution_count": 33,
   "id": "8e979b31",
   "metadata": {},
   "outputs": [
    {
     "data": {
      "text/plain": [
       "Adults 65+                    394000\n",
       "Young single professionals    318536\n",
       "Young adult at home           256697\n",
       "Name: Demographic_profile, dtype: int64"
      ]
     },
     "execution_count": 33,
     "metadata": {},
     "output_type": "execute_result"
    }
   ],
   "source": [
    "#check for labesl in new column\n",
    "df_ords_prods_no_low['Demographic_profile'].value_counts()"
   ]
  },
  {
   "cell_type": "code",
   "execution_count": 34,
   "id": "2039894c",
   "metadata": {},
   "outputs": [],
   "source": [
    "#create a label for married with babies: \n",
    "#num_dependants > 0, fam_status = married\n",
    "df_ords_prods_no_low.loc[(df_ords_prods_no_low['num_dependants'] > 0) &\n",
    "                        (df_ords_prods_no_low['fam_status'] == 'married') &\n",
    "                         (df_ords_prods_no_low['department_id'].isin([1,4,11,16,17,18])),\n",
    "                         'Demographic_profile'] = 'Married with babies'"
   ]
  },
  {
   "cell_type": "code",
   "execution_count": 35,
   "id": "b5087812",
   "metadata": {},
   "outputs": [
    {
     "data": {
      "text/plain": [
       "Married with babies           12576015\n",
       "Adults 65+                      394000\n",
       "Young single professionals      318536\n",
       "Young adult at home             256697\n",
       "Name: Demographic_profile, dtype: int64"
      ]
     },
     "execution_count": 35,
     "metadata": {},
     "output_type": "execute_result"
    }
   ],
   "source": [
    "#check for labesl in new column\n",
    "df_ords_prods_no_low['Demographic_profile'].value_counts()"
   ]
  },
  {
   "cell_type": "code",
   "execution_count": 36,
   "id": "68d954ea",
   "metadata": {},
   "outputs": [
    {
     "name": "stderr",
     "output_type": "stream",
     "text": [
      "C:\\Users\\krist\\AppData\\Local\\Temp\\ipykernel_20840\\2637209953.py:2: SettingWithCopyWarning: \n",
      "A value is trying to be set on a copy of a slice from a DataFrame.\n",
      "Try using .loc[row_indexer,col_indexer] = value instead\n",
      "\n",
      "See the caveats in the documentation: https://pandas.pydata.org/pandas-docs/stable/user_guide/indexing.html#returning-a-view-versus-a-copy\n",
      "  df_ords_prods_no_low['Demographic_profile'] = df_ords_prods_no_low.groupby('user_id')['Demographic_profile'].transform('first')\n"
     ]
    }
   ],
   "source": [
    "#ensure each user_id only has one profile label\n",
    "df_ords_prods_no_low['Demographic_profile'] = df_ords_prods_no_low.groupby('user_id')['Demographic_profile'].transform('first')"
   ]
  },
  {
   "cell_type": "code",
   "execution_count": 37,
   "id": "62bab205",
   "metadata": {},
   "outputs": [
    {
     "data": {
      "text/plain": [
       "Married with babies           21728155\n",
       "Adults 65+                     2007066\n",
       "Young adult at home            1473472\n",
       "Young single professionals      552506\n",
       "Name: Demographic_profile, dtype: int64"
      ]
     },
     "execution_count": 37,
     "metadata": {},
     "output_type": "execute_result"
    }
   ],
   "source": [
    "#check overall frequency of demographic_profile\n",
    "df_ords_prods_no_low['Demographic_profile'].value_counts()"
   ]
  },
  {
   "cell_type": "code",
   "execution_count": 38,
   "id": "028e5064",
   "metadata": {
    "scrolled": true
   },
   "outputs": [
    {
     "data": {
      "text/plain": [
       "Demographic_profile\n",
       "Adults 65+                     10311\n",
       "Married with babies           113644\n",
       "Young adult at home             7386\n",
       "Young single professionals      3316\n",
       "Name: user_id, dtype: int64"
      ]
     },
     "execution_count": 38,
     "metadata": {},
     "output_type": "execute_result"
    }
   ],
   "source": [
    "#check distribution of customer profiles\n",
    "#customer count is 162,631\n",
    "df_ords_prods_no_low.groupby('Demographic_profile')['user_id'].nunique()"
   ]
  },
  {
   "cell_type": "markdown",
   "id": "04014ada",
   "metadata": {},
   "source": [
    "### married with babies make up majority of customer base 69.9%\n",
    "### the next largest demographic group is adults 65+ 6.3%\n",
    "### 27,974 or 17.2% are currently uncategorized"
   ]
  },
  {
   "cell_type": "code",
   "execution_count": 39,
   "id": "e6a61382",
   "metadata": {},
   "outputs": [
    {
     "data": {
      "text/html": [
       "<div>\n",
       "<style scoped>\n",
       "    .dataframe tbody tr th:only-of-type {\n",
       "        vertical-align: middle;\n",
       "    }\n",
       "\n",
       "    .dataframe tbody tr th {\n",
       "        vertical-align: top;\n",
       "    }\n",
       "\n",
       "    .dataframe thead th {\n",
       "        text-align: right;\n",
       "    }\n",
       "</style>\n",
       "<table border=\"1\" class=\"dataframe\">\n",
       "  <thead>\n",
       "    <tr style=\"text-align: right;\">\n",
       "      <th></th>\n",
       "      <th>user_id</th>\n",
       "      <th>Demographic_profile</th>\n",
       "    </tr>\n",
       "  </thead>\n",
       "  <tbody>\n",
       "    <tr>\n",
       "      <th>32404822</th>\n",
       "      <td>120516</td>\n",
       "      <td>None</td>\n",
       "    </tr>\n",
       "    <tr>\n",
       "      <th>32404823</th>\n",
       "      <td>120516</td>\n",
       "      <td>None</td>\n",
       "    </tr>\n",
       "    <tr>\n",
       "      <th>32404824</th>\n",
       "      <td>120516</td>\n",
       "      <td>None</td>\n",
       "    </tr>\n",
       "    <tr>\n",
       "      <th>32404825</th>\n",
       "      <td>120516</td>\n",
       "      <td>None</td>\n",
       "    </tr>\n",
       "    <tr>\n",
       "      <th>32404829</th>\n",
       "      <td>106143</td>\n",
       "      <td>Young single professionals</td>\n",
       "    </tr>\n",
       "    <tr>\n",
       "      <th>32404830</th>\n",
       "      <td>106143</td>\n",
       "      <td>Young single professionals</td>\n",
       "    </tr>\n",
       "    <tr>\n",
       "      <th>32404831</th>\n",
       "      <td>106143</td>\n",
       "      <td>Young single professionals</td>\n",
       "    </tr>\n",
       "    <tr>\n",
       "      <th>32404832</th>\n",
       "      <td>106143</td>\n",
       "      <td>Young single professionals</td>\n",
       "    </tr>\n",
       "    <tr>\n",
       "      <th>32404833</th>\n",
       "      <td>106143</td>\n",
       "      <td>Young single professionals</td>\n",
       "    </tr>\n",
       "    <tr>\n",
       "      <th>32404834</th>\n",
       "      <td>106143</td>\n",
       "      <td>Young single professionals</td>\n",
       "    </tr>\n",
       "    <tr>\n",
       "      <th>32404835</th>\n",
       "      <td>106143</td>\n",
       "      <td>Young single professionals</td>\n",
       "    </tr>\n",
       "    <tr>\n",
       "      <th>32404836</th>\n",
       "      <td>106143</td>\n",
       "      <td>Young single professionals</td>\n",
       "    </tr>\n",
       "    <tr>\n",
       "      <th>32404837</th>\n",
       "      <td>106143</td>\n",
       "      <td>Young single professionals</td>\n",
       "    </tr>\n",
       "    <tr>\n",
       "      <th>32404838</th>\n",
       "      <td>106143</td>\n",
       "      <td>Young single professionals</td>\n",
       "    </tr>\n",
       "    <tr>\n",
       "      <th>32404839</th>\n",
       "      <td>106143</td>\n",
       "      <td>Young single professionals</td>\n",
       "    </tr>\n",
       "    <tr>\n",
       "      <th>32404840</th>\n",
       "      <td>106143</td>\n",
       "      <td>Young single professionals</td>\n",
       "    </tr>\n",
       "    <tr>\n",
       "      <th>32404841</th>\n",
       "      <td>106143</td>\n",
       "      <td>Young single professionals</td>\n",
       "    </tr>\n",
       "    <tr>\n",
       "      <th>32404842</th>\n",
       "      <td>106143</td>\n",
       "      <td>Young single professionals</td>\n",
       "    </tr>\n",
       "    <tr>\n",
       "      <th>32404843</th>\n",
       "      <td>106143</td>\n",
       "      <td>Young single professionals</td>\n",
       "    </tr>\n",
       "    <tr>\n",
       "      <th>32404844</th>\n",
       "      <td>106143</td>\n",
       "      <td>Young single professionals</td>\n",
       "    </tr>\n",
       "    <tr>\n",
       "      <th>32404845</th>\n",
       "      <td>106143</td>\n",
       "      <td>Young single professionals</td>\n",
       "    </tr>\n",
       "    <tr>\n",
       "      <th>32404846</th>\n",
       "      <td>106143</td>\n",
       "      <td>Young single professionals</td>\n",
       "    </tr>\n",
       "    <tr>\n",
       "      <th>32404847</th>\n",
       "      <td>106143</td>\n",
       "      <td>Young single professionals</td>\n",
       "    </tr>\n",
       "    <tr>\n",
       "      <th>32404848</th>\n",
       "      <td>106143</td>\n",
       "      <td>Young single professionals</td>\n",
       "    </tr>\n",
       "    <tr>\n",
       "      <th>32404849</th>\n",
       "      <td>106143</td>\n",
       "      <td>Young single professionals</td>\n",
       "    </tr>\n",
       "    <tr>\n",
       "      <th>32404850</th>\n",
       "      <td>106143</td>\n",
       "      <td>Young single professionals</td>\n",
       "    </tr>\n",
       "    <tr>\n",
       "      <th>32404851</th>\n",
       "      <td>106143</td>\n",
       "      <td>Young single professionals</td>\n",
       "    </tr>\n",
       "    <tr>\n",
       "      <th>32404852</th>\n",
       "      <td>106143</td>\n",
       "      <td>Young single professionals</td>\n",
       "    </tr>\n",
       "    <tr>\n",
       "      <th>32404853</th>\n",
       "      <td>106143</td>\n",
       "      <td>Young single professionals</td>\n",
       "    </tr>\n",
       "    <tr>\n",
       "      <th>32404854</th>\n",
       "      <td>106143</td>\n",
       "      <td>Young single professionals</td>\n",
       "    </tr>\n",
       "  </tbody>\n",
       "</table>\n",
       "</div>"
      ],
      "text/plain": [
       "          user_id         Demographic_profile\n",
       "32404822   120516                        None\n",
       "32404823   120516                        None\n",
       "32404824   120516                        None\n",
       "32404825   120516                        None\n",
       "32404829   106143  Young single professionals\n",
       "32404830   106143  Young single professionals\n",
       "32404831   106143  Young single professionals\n",
       "32404832   106143  Young single professionals\n",
       "32404833   106143  Young single professionals\n",
       "32404834   106143  Young single professionals\n",
       "32404835   106143  Young single professionals\n",
       "32404836   106143  Young single professionals\n",
       "32404837   106143  Young single professionals\n",
       "32404838   106143  Young single professionals\n",
       "32404839   106143  Young single professionals\n",
       "32404840   106143  Young single professionals\n",
       "32404841   106143  Young single professionals\n",
       "32404842   106143  Young single professionals\n",
       "32404843   106143  Young single professionals\n",
       "32404844   106143  Young single professionals\n",
       "32404845   106143  Young single professionals\n",
       "32404846   106143  Young single professionals\n",
       "32404847   106143  Young single professionals\n",
       "32404848   106143  Young single professionals\n",
       "32404849   106143  Young single professionals\n",
       "32404850   106143  Young single professionals\n",
       "32404851   106143  Young single professionals\n",
       "32404852   106143  Young single professionals\n",
       "32404853   106143  Young single professionals\n",
       "32404854   106143  Young single professionals"
      ]
     },
     "execution_count": 39,
     "metadata": {},
     "output_type": "execute_result"
    }
   ],
   "source": [
    "#check user ids have same category\n",
    "df_ords_prods_no_low[['user_id','Demographic_profile']].tail(30)"
   ]
  },
  {
   "cell_type": "markdown",
   "id": "bfe2b0ab",
   "metadata": {},
   "source": [
    "## 4. Create visualizations for customer profiles"
   ]
  },
  {
   "cell_type": "markdown",
   "id": "a724bb7b",
   "metadata": {},
   "source": [
    "### import libraries for visualizations"
   ]
  },
  {
   "cell_type": "code",
   "execution_count": 40,
   "id": "e92932fc",
   "metadata": {},
   "outputs": [],
   "source": [
    "#import seaborn, matplotlib, and scipy\n",
    "import seaborn as sns\n",
    "import matplotlib.pyplot as plt\n",
    "import scipy"
   ]
  },
  {
   "cell_type": "code",
   "execution_count": 41,
   "id": "e14335f0",
   "metadata": {},
   "outputs": [
    {
     "data": {
      "image/png": "[encoded data removed]",
      "text/plain": [
       "<Figure size 640x480 with 1 Axes>"
      ]
     },
     "metadata": {},
     "output_type": "display_data"
    }
   ],
   "source": [
    "demographic_profile_bar = df_ords_prods_no_low['Demographic_profile'].value_counts().plot.bar(color = \n",
    "                                                                    ['lightcoral','teal', 'lavender', 'goldenrod'])"
   ]
  },
  {
   "cell_type": "code",
   "execution_count": 42,
   "id": "ba3b3324",
   "metadata": {},
   "outputs": [
    {
     "data": {
      "image/png": "[encoded data removed]",
      "text/plain": [
       "<Figure size 640x480 with 1 Axes>"
      ]
     },
     "execution_count": 42,
     "metadata": {},
     "output_type": "execute_result"
    }
   ],
   "source": [
    "demographic_profile_bar.set_ylabel('Frequency')\n",
    "demographic_profile_bar.set_title('Frequency of Orders by Customer Profile')\n",
    "demographic_profile_bar.figure"
   ]
  },
  {
   "cell_type": "code",
   "execution_count": 43,
   "id": "8f994839",
   "metadata": {},
   "outputs": [],
   "source": [
    "#export barchart\n",
    "demographic_profile_bar.figure.savefig(os.path.join(path, \n",
    "                                                 '04.Analysis', \n",
    "                                                 'Visualizations', \n",
    "                                                'demo_profile_frequency_bar.png'))"
   ]
  },
  {
   "cell_type": "markdown",
   "id": "5a18882e",
   "metadata": {},
   "source": [
    "### Aggregate max mean min for customer profiles based on frequency and expenditure"
   ]
  },
  {
   "cell_type": "code",
   "execution_count": 44,
   "id": "a53ad48c",
   "metadata": {},
   "outputs": [],
   "source": [
    "agg_demo_prices_tbl = df_ords_prods_no_low.groupby('Demographic_profile').agg({'prices': ['mean', 'min', 'max'],\n",
    "                                                         'days_since_last_order': ['mean', 'min', 'max']})"
   ]
  },
  {
   "cell_type": "markdown",
   "id": "bfe8cfe4",
   "metadata": {},
   "source": [
    "### adults 65+ pay highest average prices but separation from between highest and lowest is less than 0.5\n",
    "### young single professionals go the longest on average before ordering again 11 days "
   ]
  },
  {
   "cell_type": "code",
   "execution_count": 45,
   "id": "85457b26",
   "metadata": {},
   "outputs": [],
   "source": [
    "agg_demo_prices_tbl.to_clipboard()"
   ]
  },
  {
   "cell_type": "markdown",
   "id": "2c944a33",
   "metadata": {},
   "source": [
    "## 5. Compare customer profiles based on region and department"
   ]
  },
  {
   "cell_type": "code",
   "execution_count": 46,
   "id": "f61d3c91",
   "metadata": {},
   "outputs": [
    {
     "data": {
      "text/html": [
       "<div>\n",
       "<style scoped>\n",
       "    .dataframe tbody tr th:only-of-type {\n",
       "        vertical-align: middle;\n",
       "    }\n",
       "\n",
       "    .dataframe tbody tr th {\n",
       "        vertical-align: top;\n",
       "    }\n",
       "\n",
       "    .dataframe thead th {\n",
       "        text-align: right;\n",
       "    }\n",
       "</style>\n",
       "<table border=\"1\" class=\"dataframe\">\n",
       "  <thead>\n",
       "    <tr style=\"text-align: right;\">\n",
       "      <th>Region</th>\n",
       "      <th>Midwest</th>\n",
       "      <th>Northeast</th>\n",
       "      <th>South</th>\n",
       "      <th>West</th>\n",
       "    </tr>\n",
       "    <tr>\n",
       "      <th>Demographic_profile</th>\n",
       "      <th></th>\n",
       "      <th></th>\n",
       "      <th></th>\n",
       "      <th></th>\n",
       "    </tr>\n",
       "  </thead>\n",
       "  <tbody>\n",
       "    <tr>\n",
       "      <th>Adults 65+</th>\n",
       "      <td>467306</td>\n",
       "      <td>376338</td>\n",
       "      <td>651803</td>\n",
       "      <td>511619</td>\n",
       "    </tr>\n",
       "    <tr>\n",
       "      <th>Married with babies</th>\n",
       "      <td>5083382</td>\n",
       "      <td>3851067</td>\n",
       "      <td>7219172</td>\n",
       "      <td>5574534</td>\n",
       "    </tr>\n",
       "    <tr>\n",
       "      <th>Young adult at home</th>\n",
       "      <td>349804</td>\n",
       "      <td>255403</td>\n",
       "      <td>503041</td>\n",
       "      <td>365224</td>\n",
       "    </tr>\n",
       "    <tr>\n",
       "      <th>Young single professionals</th>\n",
       "      <td>117148</td>\n",
       "      <td>100971</td>\n",
       "      <td>187453</td>\n",
       "      <td>146934</td>\n",
       "    </tr>\n",
       "  </tbody>\n",
       "</table>\n",
       "</div>"
      ],
      "text/plain": [
       "Region                      Midwest  Northeast    South     West\n",
       "Demographic_profile                                             \n",
       "Adults 65+                   467306     376338   651803   511619\n",
       "Married with babies         5083382    3851067  7219172  5574534\n",
       "Young adult at home          349804     255403   503041   365224\n",
       "Young single professionals   117148     100971   187453   146934"
      ]
     },
     "execution_count": 46,
     "metadata": {},
     "output_type": "execute_result"
    }
   ],
   "source": [
    "#create crosstab for demographic profile and region\n",
    "region_cust_prof_xtab = pd.crosstab(df_ords_prods_no_low['Demographic_profile'], \n",
    "                                    df_ords_prods_no_low['Region'],\n",
    "                                    dropna = False)\n",
    "region_cust_prof_xtab"
   ]
  },
  {
   "cell_type": "code",
   "execution_count": 47,
   "id": "f08bae7c",
   "metadata": {},
   "outputs": [
    {
     "data": {
      "text/html": [
       "<div>\n",
       "<style scoped>\n",
       "    .dataframe tbody tr th:only-of-type {\n",
       "        vertical-align: middle;\n",
       "    }\n",
       "\n",
       "    .dataframe tbody tr th {\n",
       "        vertical-align: top;\n",
       "    }\n",
       "\n",
       "    .dataframe thead th {\n",
       "        text-align: right;\n",
       "    }\n",
       "</style>\n",
       "<table border=\"1\" class=\"dataframe\">\n",
       "  <thead>\n",
       "    <tr style=\"text-align: right;\">\n",
       "      <th>Demographic_profile</th>\n",
       "      <th>Adults 65+</th>\n",
       "      <th>Married with babies</th>\n",
       "      <th>Young adult at home</th>\n",
       "      <th>Young single professionals</th>\n",
       "    </tr>\n",
       "    <tr>\n",
       "      <th>department_id</th>\n",
       "      <th></th>\n",
       "      <th></th>\n",
       "      <th></th>\n",
       "      <th></th>\n",
       "    </tr>\n",
       "  </thead>\n",
       "  <tbody>\n",
       "    <tr>\n",
       "      <th>1</th>\n",
       "      <td>141104</td>\n",
       "      <td>1489390</td>\n",
       "      <td>102599</td>\n",
       "      <td>35754</td>\n",
       "    </tr>\n",
       "    <tr>\n",
       "      <th>2</th>\n",
       "      <td>2139</td>\n",
       "      <td>23853</td>\n",
       "      <td>1810</td>\n",
       "      <td>674</td>\n",
       "    </tr>\n",
       "    <tr>\n",
       "      <th>3</th>\n",
       "      <td>72418</td>\n",
       "      <td>785320</td>\n",
       "      <td>53425</td>\n",
       "      <td>19517</td>\n",
       "    </tr>\n",
       "    <tr>\n",
       "      <th>4</th>\n",
       "      <td>590869</td>\n",
       "      <td>6373293</td>\n",
       "      <td>427330</td>\n",
       "      <td>152676</td>\n",
       "    </tr>\n",
       "    <tr>\n",
       "      <th>5</th>\n",
       "      <td>8734</td>\n",
       "      <td>98070</td>\n",
       "      <td>8122</td>\n",
       "      <td>2341</td>\n",
       "    </tr>\n",
       "    <tr>\n",
       "      <th>6</th>\n",
       "      <td>16479</td>\n",
       "      <td>179100</td>\n",
       "      <td>12379</td>\n",
       "      <td>4248</td>\n",
       "    </tr>\n",
       "    <tr>\n",
       "      <th>7</th>\n",
       "      <td>165271</td>\n",
       "      <td>1799754</td>\n",
       "      <td>118001</td>\n",
       "      <td>51028</td>\n",
       "    </tr>\n",
       "    <tr>\n",
       "      <th>8</th>\n",
       "      <td>6698</td>\n",
       "      <td>64111</td>\n",
       "      <td>5315</td>\n",
       "      <td>1922</td>\n",
       "    </tr>\n",
       "    <tr>\n",
       "      <th>9</th>\n",
       "      <td>53219</td>\n",
       "      <td>578214</td>\n",
       "      <td>39542</td>\n",
       "      <td>13239</td>\n",
       "    </tr>\n",
       "    <tr>\n",
       "      <th>10</th>\n",
       "      <td>2048</td>\n",
       "      <td>23799</td>\n",
       "      <td>1624</td>\n",
       "      <td>642</td>\n",
       "    </tr>\n",
       "    <tr>\n",
       "      <th>11</th>\n",
       "      <td>27868</td>\n",
       "      <td>297900</td>\n",
       "      <td>20046</td>\n",
       "      <td>7939</td>\n",
       "    </tr>\n",
       "    <tr>\n",
       "      <th>12</th>\n",
       "      <td>44264</td>\n",
       "      <td>476463</td>\n",
       "      <td>32247</td>\n",
       "      <td>9604</td>\n",
       "    </tr>\n",
       "    <tr>\n",
       "      <th>13</th>\n",
       "      <td>115735</td>\n",
       "      <td>1252403</td>\n",
       "      <td>85845</td>\n",
       "      <td>30874</td>\n",
       "    </tr>\n",
       "    <tr>\n",
       "      <th>14</th>\n",
       "      <td>41996</td>\n",
       "      <td>470775</td>\n",
       "      <td>33119</td>\n",
       "      <td>13057</td>\n",
       "    </tr>\n",
       "    <tr>\n",
       "      <th>15</th>\n",
       "      <td>64743</td>\n",
       "      <td>712484</td>\n",
       "      <td>48416</td>\n",
       "      <td>16614</td>\n",
       "    </tr>\n",
       "    <tr>\n",
       "      <th>16</th>\n",
       "      <td>336522</td>\n",
       "      <td>3632599</td>\n",
       "      <td>248699</td>\n",
       "      <td>89785</td>\n",
       "    </tr>\n",
       "    <tr>\n",
       "      <th>17</th>\n",
       "      <td>44410</td>\n",
       "      <td>495150</td>\n",
       "      <td>32993</td>\n",
       "      <td>13311</td>\n",
       "    </tr>\n",
       "    <tr>\n",
       "      <th>18</th>\n",
       "      <td>25838</td>\n",
       "      <td>287683</td>\n",
       "      <td>19346</td>\n",
       "      <td>6572</td>\n",
       "    </tr>\n",
       "    <tr>\n",
       "      <th>19</th>\n",
       "      <td>177604</td>\n",
       "      <td>1940253</td>\n",
       "      <td>131310</td>\n",
       "      <td>63680</td>\n",
       "    </tr>\n",
       "    <tr>\n",
       "      <th>20</th>\n",
       "      <td>65146</td>\n",
       "      <td>702051</td>\n",
       "      <td>47993</td>\n",
       "      <td>17806</td>\n",
       "    </tr>\n",
       "    <tr>\n",
       "      <th>21</th>\n",
       "      <td>3961</td>\n",
       "      <td>45490</td>\n",
       "      <td>3311</td>\n",
       "      <td>1223</td>\n",
       "    </tr>\n",
       "  </tbody>\n",
       "</table>\n",
       "</div>"
      ],
      "text/plain": [
       "Demographic_profile  Adults 65+  Married with babies  Young adult at home  \\\n",
       "department_id                                                               \n",
       "1                        141104              1489390               102599   \n",
       "2                          2139                23853                 1810   \n",
       "3                         72418               785320                53425   \n",
       "4                        590869              6373293               427330   \n",
       "5                          8734                98070                 8122   \n",
       "6                         16479               179100                12379   \n",
       "7                        165271              1799754               118001   \n",
       "8                          6698                64111                 5315   \n",
       "9                         53219               578214                39542   \n",
       "10                         2048                23799                 1624   \n",
       "11                        27868               297900                20046   \n",
       "12                        44264               476463                32247   \n",
       "13                       115735              1252403                85845   \n",
       "14                        41996               470775                33119   \n",
       "15                        64743               712484                48416   \n",
       "16                       336522              3632599               248699   \n",
       "17                        44410               495150                32993   \n",
       "18                        25838               287683                19346   \n",
       "19                       177604              1940253               131310   \n",
       "20                        65146               702051                47993   \n",
       "21                         3961                45490                 3311   \n",
       "\n",
       "Demographic_profile  Young single professionals  \n",
       "department_id                                    \n",
       "1                                         35754  \n",
       "2                                           674  \n",
       "3                                         19517  \n",
       "4                                        152676  \n",
       "5                                          2341  \n",
       "6                                          4248  \n",
       "7                                         51028  \n",
       "8                                          1922  \n",
       "9                                         13239  \n",
       "10                                          642  \n",
       "11                                         7939  \n",
       "12                                         9604  \n",
       "13                                        30874  \n",
       "14                                        13057  \n",
       "15                                        16614  \n",
       "16                                        89785  \n",
       "17                                        13311  \n",
       "18                                         6572  \n",
       "19                                        63680  \n",
       "20                                        17806  \n",
       "21                                         1223  "
      ]
     },
     "execution_count": 47,
     "metadata": {},
     "output_type": "execute_result"
    }
   ],
   "source": [
    "#create crosstab for demographic profile and department\n",
    "dept_cust_prof_xtab = pd.crosstab(df_ords_prods_no_low['department_id'], \n",
    "                                  df_ords_prods_no_low['Demographic_profile'],\n",
    "                                  dropna = False)\n",
    "dept_cust_prof_xtab"
   ]
  },
  {
   "cell_type": "markdown",
   "id": "5c728573",
   "metadata": {},
   "source": [
    "### top two departments for all groups are produce and dairy and eggs\n",
    "### bottom two are bulk and other for all groups"
   ]
  },
  {
   "cell_type": "markdown",
   "id": "049c26f7",
   "metadata": {},
   "source": [
    "## 6. Create more visualizations"
   ]
  },
  {
   "cell_type": "code",
   "execution_count": 48,
   "id": "68e21825",
   "metadata": {},
   "outputs": [
    {
     "data": {
      "image/png": "[encoded data removed]",
      "text/plain": [
       "<Figure size 640x480 with 1 Axes>"
      ]
     },
     "metadata": {},
     "output_type": "display_data"
    }
   ],
   "source": [
    "#create bar chart by department\n",
    "department_bar = df_ords_prods_no_low['department_id'].value_counts(normalize = True).plot.bar()"
   ]
  },
  {
   "cell_type": "code",
   "execution_count": 49,
   "id": "3a2d9fb5",
   "metadata": {},
   "outputs": [],
   "source": [
    "labels = ['Produce', 'Dairy eggs', 'Snacks', 'Beverages', \n",
    "          'Frozen', 'Pantry', 'Bakery', 'Canned goods', \n",
    "          'Deli', 'Dry goods pasta', 'Household', 'Meat Seafood', \n",
    "          'Breakfast', 'Personal Care', 'Babies','International', \n",
    "          'Alcohol', 'Pets', 'Missing', 'Other', 'Bulk']"
   ]
  },
  {
   "cell_type": "code",
   "execution_count": 50,
   "id": "6d90bc62",
   "metadata": {},
   "outputs": [
    {
     "data": {
      "image/png": "[encoded data removed]",
      "text/plain": [
       "<Figure size 640x480 with 1 Axes>"
      ]
     },
     "execution_count": 50,
     "metadata": {},
     "output_type": "execute_result"
    }
   ],
   "source": [
    "department_bar.set_xlabel('Department')\n",
    "department_bar.set_xticklabels(labels)\n",
    "department_bar.set_ylabel('Frequency')\n",
    "department_bar.set_title('Orders by Department')\n",
    "department_bar.figure"
   ]
  },
  {
   "cell_type": "code",
   "execution_count": 51,
   "id": "57d42ff1",
   "metadata": {},
   "outputs": [],
   "source": [
    "#export\n",
    "department_bar.figure.savefig(os.path.join(path, \n",
    "                                                 '04.Analysis', \n",
    "                                                 'Visualizations', \n",
    "                                                 'ords_by_dept.png'))"
   ]
  },
  {
   "cell_type": "code",
   "execution_count": 52,
   "id": "2d5641ba",
   "metadata": {},
   "outputs": [
    {
     "data": {
      "text/html": [
       "<div>\n",
       "<style scoped>\n",
       "    .dataframe tbody tr th:only-of-type {\n",
       "        vertical-align: middle;\n",
       "    }\n",
       "\n",
       "    .dataframe tbody tr th {\n",
       "        vertical-align: top;\n",
       "    }\n",
       "\n",
       "    .dataframe thead th {\n",
       "        text-align: right;\n",
       "    }\n",
       "</style>\n",
       "<table border=\"1\" class=\"dataframe\">\n",
       "  <thead>\n",
       "    <tr style=\"text-align: right;\">\n",
       "      <th>loyalty_flag</th>\n",
       "      <th>Loyal customer</th>\n",
       "      <th>New customer</th>\n",
       "      <th>Regular customer</th>\n",
       "    </tr>\n",
       "    <tr>\n",
       "      <th>department_id</th>\n",
       "      <th></th>\n",
       "      <th></th>\n",
       "      <th></th>\n",
       "    </tr>\n",
       "  </thead>\n",
       "  <tbody>\n",
       "    <tr>\n",
       "      <th>1</th>\n",
       "      <td>609460</td>\n",
       "      <td>372271</td>\n",
       "      <td>1140000</td>\n",
       "    </tr>\n",
       "    <tr>\n",
       "      <th>2</th>\n",
       "      <td>10715</td>\n",
       "      <td>5839</td>\n",
       "      <td>17857</td>\n",
       "    </tr>\n",
       "    <tr>\n",
       "      <th>3</th>\n",
       "      <td>379873</td>\n",
       "      <td>172104</td>\n",
       "      <td>568851</td>\n",
       "    </tr>\n",
       "    <tr>\n",
       "      <th>4</th>\n",
       "      <td>3147376</td>\n",
       "      <td>1336604</td>\n",
       "      <td>4595293</td>\n",
       "    </tr>\n",
       "    <tr>\n",
       "      <th>5</th>\n",
       "      <td>38723</td>\n",
       "      <td>28629</td>\n",
       "      <td>77275</td>\n",
       "    </tr>\n",
       "    <tr>\n",
       "      <th>6</th>\n",
       "      <td>78394</td>\n",
       "      <td>43841</td>\n",
       "      <td>133756</td>\n",
       "    </tr>\n",
       "    <tr>\n",
       "      <th>7</th>\n",
       "      <td>855017</td>\n",
       "      <td>396649</td>\n",
       "      <td>1320235</td>\n",
       "    </tr>\n",
       "    <tr>\n",
       "      <th>8</th>\n",
       "      <td>25469</td>\n",
       "      <td>15880</td>\n",
       "      <td>51711</td>\n",
       "    </tr>\n",
       "    <tr>\n",
       "      <th>9</th>\n",
       "      <td>242580</td>\n",
       "      <td>144836</td>\n",
       "      <td>434720</td>\n",
       "    </tr>\n",
       "    <tr>\n",
       "      <th>10</th>\n",
       "      <td>13834</td>\n",
       "      <td>4149</td>\n",
       "      <td>15468</td>\n",
       "    </tr>\n",
       "    <tr>\n",
       "      <th>11</th>\n",
       "      <td>123365</td>\n",
       "      <td>75442</td>\n",
       "      <td>225499</td>\n",
       "    </tr>\n",
       "    <tr>\n",
       "      <th>12</th>\n",
       "      <td>202480</td>\n",
       "      <td>112464</td>\n",
       "      <td>359837</td>\n",
       "    </tr>\n",
       "    <tr>\n",
       "      <th>13</th>\n",
       "      <td>560402</td>\n",
       "      <td>299576</td>\n",
       "      <td>922727</td>\n",
       "    </tr>\n",
       "    <tr>\n",
       "      <th>14</th>\n",
       "      <td>221577</td>\n",
       "      <td>106179</td>\n",
       "      <td>343094</td>\n",
       "    </tr>\n",
       "    <tr>\n",
       "      <th>15</th>\n",
       "      <td>294594</td>\n",
       "      <td>180196</td>\n",
       "      <td>537284</td>\n",
       "    </tr>\n",
       "    <tr>\n",
       "      <th>16</th>\n",
       "      <td>1830707</td>\n",
       "      <td>750056</td>\n",
       "      <td>2596419</td>\n",
       "    </tr>\n",
       "    <tr>\n",
       "      <th>17</th>\n",
       "      <td>196873</td>\n",
       "      <td>128117</td>\n",
       "      <td>374867</td>\n",
       "    </tr>\n",
       "    <tr>\n",
       "      <th>18</th>\n",
       "      <td>167108</td>\n",
       "      <td>46708</td>\n",
       "      <td>196576</td>\n",
       "    </tr>\n",
       "    <tr>\n",
       "      <th>19</th>\n",
       "      <td>943150</td>\n",
       "      <td>413107</td>\n",
       "      <td>1410149</td>\n",
       "    </tr>\n",
       "    <tr>\n",
       "      <th>20</th>\n",
       "      <td>324046</td>\n",
       "      <td>158335</td>\n",
       "      <td>521453</td>\n",
       "    </tr>\n",
       "    <tr>\n",
       "      <th>21</th>\n",
       "      <td>18350</td>\n",
       "      <td>12713</td>\n",
       "      <td>33705</td>\n",
       "    </tr>\n",
       "  </tbody>\n",
       "</table>\n",
       "</div>"
      ],
      "text/plain": [
       "loyalty_flag   Loyal customer  New customer  Regular customer\n",
       "department_id                                                \n",
       "1                      609460        372271           1140000\n",
       "2                       10715          5839             17857\n",
       "3                      379873        172104            568851\n",
       "4                     3147376       1336604           4595293\n",
       "5                       38723         28629             77275\n",
       "6                       78394         43841            133756\n",
       "7                      855017        396649           1320235\n",
       "8                       25469         15880             51711\n",
       "9                      242580        144836            434720\n",
       "10                      13834          4149             15468\n",
       "11                     123365         75442            225499\n",
       "12                     202480        112464            359837\n",
       "13                     560402        299576            922727\n",
       "14                     221577        106179            343094\n",
       "15                     294594        180196            537284\n",
       "16                    1830707        750056           2596419\n",
       "17                     196873        128117            374867\n",
       "18                     167108         46708            196576\n",
       "19                     943150        413107           1410149\n",
       "20                     324046        158335            521453\n",
       "21                      18350         12713             33705"
      ]
     },
     "execution_count": 52,
     "metadata": {},
     "output_type": "execute_result"
    }
   ],
   "source": [
    "#create crosstab for loyalty and department\n",
    "dept_loyal_xtab = pd.crosstab(df_ords_prods_no_low['department_id'], \n",
    "                                  df_ords_prods_no_low['loyalty_flag'],\n",
    "                                  dropna = False)\n",
    "dept_loyal_xtab"
   ]
  },
  {
   "cell_type": "code",
   "execution_count": 53,
   "id": "3f1107d8",
   "metadata": {},
   "outputs": [],
   "source": [
    "dept_loyal_xtab.to_clipboard()"
   ]
  },
  {
   "cell_type": "markdown",
   "id": "9a09d678",
   "metadata": {},
   "source": [
    "### no difference between top and bottom departments by loyalty"
   ]
  },
  {
   "cell_type": "code",
   "execution_count": 54,
   "id": "50653fc6",
   "metadata": {},
   "outputs": [
    {
     "data": {
      "text/html": [
       "<div>\n",
       "<style scoped>\n",
       "    .dataframe tbody tr th:only-of-type {\n",
       "        vertical-align: middle;\n",
       "    }\n",
       "\n",
       "    .dataframe tbody tr th {\n",
       "        vertical-align: top;\n",
       "    }\n",
       "\n",
       "    .dataframe thead th {\n",
       "        text-align: right;\n",
       "    }\n",
       "</style>\n",
       "<table border=\"1\" class=\"dataframe\">\n",
       "  <thead>\n",
       "    <tr style=\"text-align: right;\">\n",
       "      <th>Spending_flag</th>\n",
       "      <th>High spender</th>\n",
       "      <th>Low spender</th>\n",
       "    </tr>\n",
       "    <tr>\n",
       "      <th>Demographic_profile</th>\n",
       "      <th></th>\n",
       "      <th></th>\n",
       "    </tr>\n",
       "  </thead>\n",
       "  <tbody>\n",
       "    <tr>\n",
       "      <th>Adults 65+</th>\n",
       "      <td>41350</td>\n",
       "      <td>1965716</td>\n",
       "    </tr>\n",
       "    <tr>\n",
       "      <th>Married with babies</th>\n",
       "      <td>428022</td>\n",
       "      <td>21300133</td>\n",
       "    </tr>\n",
       "    <tr>\n",
       "      <th>Young adult at home</th>\n",
       "      <td>27410</td>\n",
       "      <td>1446062</td>\n",
       "    </tr>\n",
       "    <tr>\n",
       "      <th>Young single professionals</th>\n",
       "      <td>1342</td>\n",
       "      <td>551164</td>\n",
       "    </tr>\n",
       "  </tbody>\n",
       "</table>\n",
       "</div>"
      ],
      "text/plain": [
       "Spending_flag               High spender  Low spender\n",
       "Demographic_profile                                  \n",
       "Adults 65+                         41350      1965716\n",
       "Married with babies               428022     21300133\n",
       "Young adult at home                27410      1446062\n",
       "Young single professionals          1342       551164"
      ]
     },
     "execution_count": 54,
     "metadata": {},
     "output_type": "execute_result"
    }
   ],
   "source": [
    "#create crosstab for demographic and spending\n",
    "demo_spend_xtab = pd.crosstab(df_ords_prods_no_low['Demographic_profile'], \n",
    "                                  df_ords_prods_no_low['Spending_flag'],\n",
    "                                  dropna = False)\n",
    "demo_spend_xtab"
   ]
  },
  {
   "cell_type": "code",
   "execution_count": 55,
   "id": "2b24cad1",
   "metadata": {},
   "outputs": [
    {
     "data": {
      "text/html": [
       "<div>\n",
       "<style scoped>\n",
       "    .dataframe tbody tr th:only-of-type {\n",
       "        vertical-align: middle;\n",
       "    }\n",
       "\n",
       "    .dataframe tbody tr th {\n",
       "        vertical-align: top;\n",
       "    }\n",
       "\n",
       "    .dataframe thead th {\n",
       "        text-align: right;\n",
       "    }\n",
       "</style>\n",
       "<table border=\"1\" class=\"dataframe\">\n",
       "  <thead>\n",
       "    <tr style=\"text-align: right;\">\n",
       "      <th>price_range_loc</th>\n",
       "      <th>High-range product</th>\n",
       "      <th>Low-range product</th>\n",
       "      <th>Mid-range product</th>\n",
       "    </tr>\n",
       "    <tr>\n",
       "      <th>Demographic_profile</th>\n",
       "      <th></th>\n",
       "      <th></th>\n",
       "      <th></th>\n",
       "    </tr>\n",
       "  </thead>\n",
       "  <tbody>\n",
       "    <tr>\n",
       "      <th>Adults 65+</th>\n",
       "      <td>26359</td>\n",
       "      <td>625862</td>\n",
       "      <td>1354845</td>\n",
       "    </tr>\n",
       "    <tr>\n",
       "      <th>Married with babies</th>\n",
       "      <td>281446</td>\n",
       "      <td>6787416</td>\n",
       "      <td>14659293</td>\n",
       "    </tr>\n",
       "    <tr>\n",
       "      <th>Young adult at home</th>\n",
       "      <td>18916</td>\n",
       "      <td>459518</td>\n",
       "      <td>995038</td>\n",
       "    </tr>\n",
       "    <tr>\n",
       "      <th>Young single professionals</th>\n",
       "      <td>5313</td>\n",
       "      <td>190454</td>\n",
       "      <td>356739</td>\n",
       "    </tr>\n",
       "  </tbody>\n",
       "</table>\n",
       "</div>"
      ],
      "text/plain": [
       "price_range_loc             High-range product  Low-range product  \\\n",
       "Demographic_profile                                                 \n",
       "Adults 65+                               26359             625862   \n",
       "Married with babies                     281446            6787416   \n",
       "Young adult at home                      18916             459518   \n",
       "Young single professionals                5313             190454   \n",
       "\n",
       "price_range_loc             Mid-range product  \n",
       "Demographic_profile                            \n",
       "Adults 65+                            1354845  \n",
       "Married with babies                  14659293  \n",
       "Young adult at home                    995038  \n",
       "Young single professionals             356739  "
      ]
     },
     "execution_count": 55,
     "metadata": {},
     "output_type": "execute_result"
    }
   ],
   "source": [
    "#create crosstab for demographic and price range\n",
    "demo_price_xtab = pd.crosstab(df_ords_prods_no_low['Demographic_profile'], \n",
    "                                  df_ords_prods_no_low['price_range_loc'],\n",
    "                                  dropna = False)\n",
    "demo_price_xtab"
   ]
  },
  {
   "cell_type": "code",
   "execution_count": 56,
   "id": "796d56ef",
   "metadata": {},
   "outputs": [
    {
     "data": {
      "text/html": [
       "<div>\n",
       "<style scoped>\n",
       "    .dataframe tbody tr th:only-of-type {\n",
       "        vertical-align: middle;\n",
       "    }\n",
       "\n",
       "    .dataframe tbody tr th {\n",
       "        vertical-align: top;\n",
       "    }\n",
       "\n",
       "    .dataframe thead th {\n",
       "        text-align: right;\n",
       "    }\n",
       "</style>\n",
       "<table border=\"1\" class=\"dataframe\">\n",
       "  <thead>\n",
       "    <tr style=\"text-align: right;\">\n",
       "      <th>Spending_flag</th>\n",
       "      <th>High spender</th>\n",
       "      <th>Low spender</th>\n",
       "    </tr>\n",
       "    <tr>\n",
       "      <th>Region</th>\n",
       "      <th></th>\n",
       "      <th></th>\n",
       "    </tr>\n",
       "  </thead>\n",
       "  <tbody>\n",
       "    <tr>\n",
       "      <th>Midwest</th>\n",
       "      <td>148678</td>\n",
       "      <td>7112835</td>\n",
       "    </tr>\n",
       "    <tr>\n",
       "      <th>Northeast</th>\n",
       "      <td>103120</td>\n",
       "      <td>5361565</td>\n",
       "    </tr>\n",
       "    <tr>\n",
       "      <th>South</th>\n",
       "      <td>199339</td>\n",
       "      <td>10111800</td>\n",
       "    </tr>\n",
       "    <tr>\n",
       "      <th>West</th>\n",
       "      <td>152288</td>\n",
       "      <td>7774939</td>\n",
       "    </tr>\n",
       "  </tbody>\n",
       "</table>\n",
       "</div>"
      ],
      "text/plain": [
       "Spending_flag  High spender  Low spender\n",
       "Region                                  \n",
       "Midwest              148678      7112835\n",
       "Northeast            103120      5361565\n",
       "South                199339     10111800\n",
       "West                 152288      7774939"
      ]
     },
     "execution_count": 56,
     "metadata": {},
     "output_type": "execute_result"
    }
   ],
   "source": [
    "#create crosstab for region and spending\n",
    "region_spend_xtab = pd.crosstab(df_ords_prods_no_low['Region'], \n",
    "                                  df_ords_prods_no_low['Spending_flag'],\n",
    "                                  dropna = False)\n",
    "region_spend_xtab"
   ]
  },
  {
   "cell_type": "code",
   "execution_count": 57,
   "id": "87f53c29",
   "metadata": {},
   "outputs": [
    {
     "data": {
      "text/html": [
       "<div>\n",
       "<style scoped>\n",
       "    .dataframe tbody tr th:only-of-type {\n",
       "        vertical-align: middle;\n",
       "    }\n",
       "\n",
       "    .dataframe tbody tr th {\n",
       "        vertical-align: top;\n",
       "    }\n",
       "\n",
       "    .dataframe thead th {\n",
       "        text-align: right;\n",
       "    }\n",
       "</style>\n",
       "<table border=\"1\" class=\"dataframe\">\n",
       "  <thead>\n",
       "    <tr style=\"text-align: right;\">\n",
       "      <th>price_range_loc</th>\n",
       "      <th>High-range product</th>\n",
       "      <th>Low-range product</th>\n",
       "      <th>Mid-range product</th>\n",
       "    </tr>\n",
       "    <tr>\n",
       "      <th>Region</th>\n",
       "      <th></th>\n",
       "      <th></th>\n",
       "      <th></th>\n",
       "    </tr>\n",
       "  </thead>\n",
       "  <tbody>\n",
       "    <tr>\n",
       "      <th>Midwest</th>\n",
       "      <td>93280</td>\n",
       "      <td>2267085</td>\n",
       "      <td>4901148</td>\n",
       "    </tr>\n",
       "    <tr>\n",
       "      <th>Northeast</th>\n",
       "      <td>69732</td>\n",
       "      <td>1712360</td>\n",
       "      <td>3682593</td>\n",
       "    </tr>\n",
       "    <tr>\n",
       "      <th>South</th>\n",
       "      <td>132661</td>\n",
       "      <td>3217500</td>\n",
       "      <td>6960978</td>\n",
       "    </tr>\n",
       "    <tr>\n",
       "      <th>West</th>\n",
       "      <td>102280</td>\n",
       "      <td>2477895</td>\n",
       "      <td>5347052</td>\n",
       "    </tr>\n",
       "  </tbody>\n",
       "</table>\n",
       "</div>"
      ],
      "text/plain": [
       "price_range_loc  High-range product  Low-range product  Mid-range product\n",
       "Region                                                                   \n",
       "Midwest                       93280            2267085            4901148\n",
       "Northeast                     69732            1712360            3682593\n",
       "South                        132661            3217500            6960978\n",
       "West                         102280            2477895            5347052"
      ]
     },
     "execution_count": 57,
     "metadata": {},
     "output_type": "execute_result"
    }
   ],
   "source": [
    "#create crosstab for region and price range\n",
    "region_price_xtab = pd.crosstab(df_ords_prods_no_low['Region'], \n",
    "                                  df_ords_prods_no_low['price_range_loc'],\n",
    "                                  dropna = False)\n",
    "region_price_xtab"
   ]
  },
  {
   "cell_type": "code",
   "execution_count": 58,
   "id": "a68fd29a",
   "metadata": {},
   "outputs": [
    {
     "data": {
      "text/html": [
       "<div>\n",
       "<style scoped>\n",
       "    .dataframe tbody tr th:only-of-type {\n",
       "        vertical-align: middle;\n",
       "    }\n",
       "\n",
       "    .dataframe tbody tr th {\n",
       "        vertical-align: top;\n",
       "    }\n",
       "\n",
       "    .dataframe thead th {\n",
       "        text-align: right;\n",
       "    }\n",
       "</style>\n",
       "<table border=\"1\" class=\"dataframe\">\n",
       "  <thead>\n",
       "    <tr style=\"text-align: right;\">\n",
       "      <th>Region</th>\n",
       "      <th>Midwest</th>\n",
       "      <th>Northeast</th>\n",
       "      <th>South</th>\n",
       "      <th>West</th>\n",
       "    </tr>\n",
       "    <tr>\n",
       "      <th>department_id</th>\n",
       "      <th></th>\n",
       "      <th></th>\n",
       "      <th></th>\n",
       "      <th></th>\n",
       "    </tr>\n",
       "  </thead>\n",
       "  <tbody>\n",
       "    <tr>\n",
       "      <th>1</th>\n",
       "      <td>498225</td>\n",
       "      <td>370436</td>\n",
       "      <td>709906</td>\n",
       "      <td>543164</td>\n",
       "    </tr>\n",
       "    <tr>\n",
       "      <th>2</th>\n",
       "      <td>7983</td>\n",
       "      <td>6268</td>\n",
       "      <td>11579</td>\n",
       "      <td>8581</td>\n",
       "    </tr>\n",
       "    <tr>\n",
       "      <th>3</th>\n",
       "      <td>261753</td>\n",
       "      <td>199300</td>\n",
       "      <td>371620</td>\n",
       "      <td>288155</td>\n",
       "    </tr>\n",
       "    <tr>\n",
       "      <th>4</th>\n",
       "      <td>2134115</td>\n",
       "      <td>1593004</td>\n",
       "      <td>3027476</td>\n",
       "      <td>2324678</td>\n",
       "    </tr>\n",
       "    <tr>\n",
       "      <th>5</th>\n",
       "      <td>34043</td>\n",
       "      <td>25017</td>\n",
       "      <td>48813</td>\n",
       "      <td>36754</td>\n",
       "    </tr>\n",
       "    <tr>\n",
       "      <th>6</th>\n",
       "      <td>60666</td>\n",
       "      <td>44678</td>\n",
       "      <td>84649</td>\n",
       "      <td>65998</td>\n",
       "    </tr>\n",
       "    <tr>\n",
       "      <th>7</th>\n",
       "      <td>598979</td>\n",
       "      <td>462929</td>\n",
       "      <td>859419</td>\n",
       "      <td>650574</td>\n",
       "    </tr>\n",
       "    <tr>\n",
       "      <th>8</th>\n",
       "      <td>21358</td>\n",
       "      <td>17734</td>\n",
       "      <td>29909</td>\n",
       "      <td>24059</td>\n",
       "    </tr>\n",
       "    <tr>\n",
       "      <th>9</th>\n",
       "      <td>193463</td>\n",
       "      <td>143817</td>\n",
       "      <td>272813</td>\n",
       "      <td>212043</td>\n",
       "    </tr>\n",
       "    <tr>\n",
       "      <th>10</th>\n",
       "      <td>7929</td>\n",
       "      <td>5599</td>\n",
       "      <td>11180</td>\n",
       "      <td>8743</td>\n",
       "    </tr>\n",
       "    <tr>\n",
       "      <th>11</th>\n",
       "      <td>100398</td>\n",
       "      <td>74765</td>\n",
       "      <td>142496</td>\n",
       "      <td>106647</td>\n",
       "    </tr>\n",
       "    <tr>\n",
       "      <th>12</th>\n",
       "      <td>158260</td>\n",
       "      <td>118571</td>\n",
       "      <td>224120</td>\n",
       "      <td>173830</td>\n",
       "    </tr>\n",
       "    <tr>\n",
       "      <th>13</th>\n",
       "      <td>420334</td>\n",
       "      <td>312731</td>\n",
       "      <td>591754</td>\n",
       "      <td>457886</td>\n",
       "    </tr>\n",
       "    <tr>\n",
       "      <th>14</th>\n",
       "      <td>156155</td>\n",
       "      <td>117904</td>\n",
       "      <td>223172</td>\n",
       "      <td>173619</td>\n",
       "    </tr>\n",
       "    <tr>\n",
       "      <th>15</th>\n",
       "      <td>237459</td>\n",
       "      <td>176936</td>\n",
       "      <td>337458</td>\n",
       "      <td>260221</td>\n",
       "    </tr>\n",
       "    <tr>\n",
       "      <th>16</th>\n",
       "      <td>1212490</td>\n",
       "      <td>914616</td>\n",
       "      <td>1723016</td>\n",
       "      <td>1327060</td>\n",
       "    </tr>\n",
       "    <tr>\n",
       "      <th>17</th>\n",
       "      <td>166992</td>\n",
       "      <td>124604</td>\n",
       "      <td>230061</td>\n",
       "      <td>178200</td>\n",
       "    </tr>\n",
       "    <tr>\n",
       "      <th>18</th>\n",
       "      <td>95741</td>\n",
       "      <td>72712</td>\n",
       "      <td>139511</td>\n",
       "      <td>102428</td>\n",
       "    </tr>\n",
       "    <tr>\n",
       "      <th>19</th>\n",
       "      <td>645143</td>\n",
       "      <td>493154</td>\n",
       "      <td>916780</td>\n",
       "      <td>711329</td>\n",
       "    </tr>\n",
       "    <tr>\n",
       "      <th>20</th>\n",
       "      <td>234464</td>\n",
       "      <td>178398</td>\n",
       "      <td>333620</td>\n",
       "      <td>257352</td>\n",
       "    </tr>\n",
       "    <tr>\n",
       "      <th>21</th>\n",
       "      <td>15563</td>\n",
       "      <td>11512</td>\n",
       "      <td>21787</td>\n",
       "      <td>15906</td>\n",
       "    </tr>\n",
       "  </tbody>\n",
       "</table>\n",
       "</div>"
      ],
      "text/plain": [
       "Region         Midwest  Northeast    South     West\n",
       "department_id                                      \n",
       "1               498225     370436   709906   543164\n",
       "2                 7983       6268    11579     8581\n",
       "3               261753     199300   371620   288155\n",
       "4              2134115    1593004  3027476  2324678\n",
       "5                34043      25017    48813    36754\n",
       "6                60666      44678    84649    65998\n",
       "7               598979     462929   859419   650574\n",
       "8                21358      17734    29909    24059\n",
       "9               193463     143817   272813   212043\n",
       "10                7929       5599    11180     8743\n",
       "11              100398      74765   142496   106647\n",
       "12              158260     118571   224120   173830\n",
       "13              420334     312731   591754   457886\n",
       "14              156155     117904   223172   173619\n",
       "15              237459     176936   337458   260221\n",
       "16             1212490     914616  1723016  1327060\n",
       "17              166992     124604   230061   178200\n",
       "18               95741      72712   139511   102428\n",
       "19              645143     493154   916780   711329\n",
       "20              234464     178398   333620   257352\n",
       "21               15563      11512    21787    15906"
      ]
     },
     "execution_count": 58,
     "metadata": {},
     "output_type": "execute_result"
    }
   ],
   "source": [
    "#create crosstab for region and department_id\n",
    "region_dept_xtab = pd.crosstab(df_ords_prods_no_low['department_id'], \n",
    "                                  df_ords_prods_no_low['Region'],\n",
    "                                  dropna = False)\n",
    "region_dept_xtab"
   ]
  },
  {
   "cell_type": "code",
   "execution_count": 59,
   "id": "22031b41",
   "metadata": {},
   "outputs": [],
   "source": [
    "#check if loyalty impacts item prices or days since last order\n",
    "agg_loyal_prices_tbl = df_ords_prods_no_low.groupby('loyalty_flag').agg({'prices': ['mean', 'min', 'max'],\n",
    "                                                         'days_since_last_order': ['mean', 'min', 'max']})"
   ]
  },
  {
   "cell_type": "code",
   "execution_count": 60,
   "id": "65d72f6b",
   "metadata": {},
   "outputs": [
    {
     "data": {
      "text/html": [
       "<div>\n",
       "<style scoped>\n",
       "    .dataframe tbody tr th:only-of-type {\n",
       "        vertical-align: middle;\n",
       "    }\n",
       "\n",
       "    .dataframe tbody tr th {\n",
       "        vertical-align: top;\n",
       "    }\n",
       "\n",
       "    .dataframe thead tr th {\n",
       "        text-align: left;\n",
       "    }\n",
       "\n",
       "    .dataframe thead tr:last-of-type th {\n",
       "        text-align: right;\n",
       "    }\n",
       "</style>\n",
       "<table border=\"1\" class=\"dataframe\">\n",
       "  <thead>\n",
       "    <tr>\n",
       "      <th></th>\n",
       "      <th colspan=\"3\" halign=\"left\">prices</th>\n",
       "      <th colspan=\"3\" halign=\"left\">days_since_last_order</th>\n",
       "    </tr>\n",
       "    <tr>\n",
       "      <th></th>\n",
       "      <th>mean</th>\n",
       "      <th>min</th>\n",
       "      <th>max</th>\n",
       "      <th>mean</th>\n",
       "      <th>min</th>\n",
       "      <th>max</th>\n",
       "    </tr>\n",
       "    <tr>\n",
       "      <th>loyalty_flag</th>\n",
       "      <th></th>\n",
       "      <th></th>\n",
       "      <th></th>\n",
       "      <th></th>\n",
       "      <th></th>\n",
       "      <th></th>\n",
       "    </tr>\n",
       "  </thead>\n",
       "  <tbody>\n",
       "    <tr>\n",
       "      <th>Loyal customer</th>\n",
       "      <td>7.773575</td>\n",
       "      <td>1.0</td>\n",
       "      <td>25.0</td>\n",
       "      <td>6.117916</td>\n",
       "      <td>0.0</td>\n",
       "      <td>30.0</td>\n",
       "    </tr>\n",
       "    <tr>\n",
       "      <th>New customer</th>\n",
       "      <td>7.801665</td>\n",
       "      <td>1.0</td>\n",
       "      <td>25.0</td>\n",
       "      <td>16.668049</td>\n",
       "      <td>0.0</td>\n",
       "      <td>30.0</td>\n",
       "    </tr>\n",
       "    <tr>\n",
       "      <th>Regular customer</th>\n",
       "      <td>7.798262</td>\n",
       "      <td>1.0</td>\n",
       "      <td>25.0</td>\n",
       "      <td>12.097288</td>\n",
       "      <td>0.0</td>\n",
       "      <td>30.0</td>\n",
       "    </tr>\n",
       "  </tbody>\n",
       "</table>\n",
       "</div>"
      ],
      "text/plain": [
       "                    prices            days_since_last_order           \n",
       "                      mean  min   max                  mean  min   max\n",
       "loyalty_flag                                                          \n",
       "Loyal customer    7.773575  1.0  25.0              6.117916  0.0  30.0\n",
       "New customer      7.801665  1.0  25.0             16.668049  0.0  30.0\n",
       "Regular customer  7.798262  1.0  25.0             12.097288  0.0  30.0"
      ]
     },
     "execution_count": 60,
     "metadata": {},
     "output_type": "execute_result"
    }
   ],
   "source": [
    "#check if loyalty impacts item prices or days since last order\n",
    "agg_loyal_prices_tbl"
   ]
  },
  {
   "cell_type": "code",
   "execution_count": 61,
   "id": "843067a2",
   "metadata": {},
   "outputs": [],
   "source": [
    "agg_loyal_prices_tbl.to_clipboard()"
   ]
  },
  {
   "cell_type": "markdown",
   "id": "55351aac",
   "metadata": {},
   "source": [
    "## Export final data set"
   ]
  },
  {
   "cell_type": "code",
   "execution_count": 62,
   "id": "9b349436",
   "metadata": {},
   "outputs": [],
   "source": [
    "#export dataset \n",
    "df_ords_prods_no_low.to_pickle(os.path.join(path, \n",
    "                                            '02.Data', \n",
    "                                            'Prepared_Data', \n",
    "                                            'orders_products_final.pkl'))"
   ]
  }
 ],
 "metadata": {
  "kernelspec": {
   "display_name": "Python 3 (ipykernel)",
   "language": "python",
   "name": "python3"
  },
  "language_info": {
   "codemirror_mode": {
    "name": "ipython",
    "version": 3
   },
   "file_extension": ".py",
   "mimetype": "text/x-python",
   "name": "python",
   "nbconvert_exporter": "python",
   "pygments_lexer": "ipython3",
   "version": "3.11.3"
  }
 },
 "nbformat": 4,
 "nbformat_minor": 5
}
