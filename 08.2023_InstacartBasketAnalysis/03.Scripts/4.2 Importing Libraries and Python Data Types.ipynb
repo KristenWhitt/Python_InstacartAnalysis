{
 "cells": [
  {
   "cell_type": "markdown",
   "id": "2b0e94ba",
   "metadata": {},
   "source": [
    "# 01. Importing libraries "
   ]
  },
  {
   "cell_type": "markdown",
   "id": "b2968476",
   "metadata": {},
   "source": [
    "## Contains:\n",
    "### How to import libraries\n",
    "### Exploration of python datatypes"
   ]
  },
  {
   "cell_type": "code",
   "execution_count": 1,
   "id": "10624d35",
   "metadata": {},
   "outputs": [],
   "source": [
    "#import libraries\n",
    "import pandas as pd\n",
    "import numpy as np\n",
    "import os"
   ]
  },
  {
   "cell_type": "markdown",
   "id": "a261e5e2",
   "metadata": {},
   "source": [
    "# 02. Data types"
   ]
  },
  {
   "cell_type": "code",
   "execution_count": 13,
   "id": "5b87a37a",
   "metadata": {},
   "outputs": [
    {
     "data": {
      "text/plain": [
       "100"
      ]
     },
     "execution_count": 13,
     "metadata": {},
     "output_type": "execute_result"
    }
   ],
   "source": [
    "36+64"
   ]
  },
  {
   "cell_type": "code",
   "execution_count": 14,
   "id": "547d25aa",
   "metadata": {},
   "outputs": [
    {
     "data": {
      "text/plain": [
       "100.0"
      ]
     },
     "execution_count": 14,
     "metadata": {},
     "output_type": "execute_result"
    }
   ],
   "source": [
    "100.99 - .99"
   ]
  },
  {
   "cell_type": "code",
   "execution_count": 15,
   "id": "3355e0fa",
   "metadata": {},
   "outputs": [
    {
     "data": {
      "text/plain": [
       "100.0"
      ]
     },
     "execution_count": 15,
     "metadata": {},
     "output_type": "execute_result"
    }
   ],
   "source": [
    "25+50.5+27-2.5"
   ]
  },
  {
   "cell_type": "code",
   "execution_count": 16,
   "id": "439cc95d",
   "metadata": {},
   "outputs": [],
   "source": [
    "a = 1.945\n",
    "b = 9.514"
   ]
  },
  {
   "cell_type": "code",
   "execution_count": 17,
   "id": "9effcafd",
   "metadata": {},
   "outputs": [
    {
     "data": {
      "text/plain": [
       "4.891516709511568"
      ]
     },
     "execution_count": 17,
     "metadata": {},
     "output_type": "execute_result"
    }
   ],
   "source": [
    "b / a"
   ]
  },
  {
   "cell_type": "code",
   "execution_count": 23,
   "id": "5976651c",
   "metadata": {},
   "outputs": [],
   "source": [
    "c = 'tro'\n",
    "d = 'uble'"
   ]
  },
  {
   "cell_type": "code",
   "execution_count": 24,
   "id": "2fed3bd4",
   "metadata": {},
   "outputs": [
    {
     "data": {
      "text/plain": [
       "'trouble'"
      ]
     },
     "execution_count": 24,
     "metadata": {},
     "output_type": "execute_result"
    }
   ],
   "source": [
    "c+d"
   ]
  },
  {
   "cell_type": "code",
   "execution_count": 25,
   "id": "e2f5e3de",
   "metadata": {},
   "outputs": [],
   "source": [
    "x = 'Gimme '\n",
    "y = 'ice cream '\n",
    "z = 'now!'"
   ]
  },
  {
   "cell_type": "code",
   "execution_count": 26,
   "id": "a0d5fb53",
   "metadata": {},
   "outputs": [
    {
     "data": {
      "text/plain": [
       "'Gimme ice cream now!'"
      ]
     },
     "execution_count": 26,
     "metadata": {},
     "output_type": "execute_result"
    }
   ],
   "source": [
    "x+y+z"
   ]
  },
  {
   "cell_type": "code",
   "execution_count": 28,
   "id": "80076a54",
   "metadata": {},
   "outputs": [],
   "source": [
    "v = \"I'm \"\n",
    "w = 'hungry.'"
   ]
  },
  {
   "cell_type": "code",
   "execution_count": 29,
   "id": "4f4fecdd",
   "metadata": {},
   "outputs": [
    {
     "data": {
      "text/plain": [
       "\"I'm hungry.\""
      ]
     },
     "execution_count": 29,
     "metadata": {},
     "output_type": "execute_result"
    }
   ],
   "source": [
    "v+w"
   ]
  },
  {
   "cell_type": "code",
   "execution_count": 30,
   "id": "b2dd818f",
   "metadata": {},
   "outputs": [
    {
     "data": {
      "text/plain": [
       "'peaspeaspeaspeaspeaspeaspeaspeaspeaspeaspeaspeaspeaspeaspeaspeaspeaspeaspeaspeaspeaspeaspeaspeaspeaspeaspeaspeaspeaspeaspeaspeaspeaspeaspeaspeaspeaspeaspeaspeaspeaspeaspeaspeaspeaspeaspeaspeaspeaspeaspeaspeaspeaspeaspeaspeaspeaspeaspeaspeaspeaspeaspeaspeaspeaspeaspeaspeaspeaspeaspeaspeaspeaspeaspeaspeaspeaspeaspeaspeaspeaspeaspeaspeaspeaspeaspeaspeaspeaspeaspeaspeaspeaspeaspeaspeaspeaspeaspeaspeas'"
      ]
     },
     "execution_count": 30,
     "metadata": {},
     "output_type": "execute_result"
    }
   ],
   "source": [
    "g = 'peas'\n",
    "g*100"
   ]
  }
 ],
 "metadata": {
  "kernelspec": {
   "display_name": "Python 3 (ipykernel)",
   "language": "python",
   "name": "python3"
  },
  "language_info": {
   "codemirror_mode": {
    "name": "ipython",
    "version": 3
   },
   "file_extension": ".py",
   "mimetype": "text/x-python",
   "name": "python",
   "nbconvert_exporter": "python",
   "pygments_lexer": "ipython3",
   "version": "3.11.3"
  }
 },
 "nbformat": 4,
 "nbformat_minor": 5
}
